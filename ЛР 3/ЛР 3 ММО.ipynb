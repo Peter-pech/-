{
 "cells": [
  {
   "cell_type": "markdown",
   "id": "811bdf0c",
   "metadata": {},
   "source": [
    "# Лабораторная работа №3: Обработка признаков (часть 2)"
   ]
  },
  {
   "cell_type": "markdown",
   "id": "8709a0fd",
   "metadata": {},
   "source": [
    "# Задание:\n",
    "\n",
    "1. Выбрать один или несколько наборов данных (датасетов) для решения следующих задач. Каждая задача может быть решена на отдельном датасете, или несколько задач могут быть решены на одном датасете. Просьба не использовать датасет, на котором данная задача решалась в лекции.\n",
    "2. Для выбранного датасета (датасетов) на основе материалов лекций решить следующие задачи:\n",
    "\n",
    "     i. масштабирование признаков (не менее чем тремя способами);\n",
    "  \n",
    "    ii. обработку выбросов для числовых признаков (по одному способу для удаления выбросов и для замены выбросов);\n",
    " \n",
    "    iii. обработку по крайней мере одного нестандартного признака (который не является числовым или категориальным);\n",
    "\n",
    "    iv. отбор признаков:\n",
    "      - один метод из группы методов фильтрации (filter methods);\n",
    "   \n",
    "      - один метод из группы методов обертывания (wrapper methods);\n",
    "   \n",
    "      - один метод из группы методов вложений (embedded methods)."
   ]
  },
  {
   "cell_type": "markdown",
   "id": "8d1b3c63",
   "metadata": {},
   "source": [
    "# Текстовое описание датасета\n",
    "\n",
    "В качестве датасета будем использовать набор данных, содержащий данные с информацией об автомобиле.Данный набор доступен по адресу:https://www.kaggle.com/datasets/tawfikelmetwally/automobile-dataset\n",
    "\n",
    "Набор данных имеет следующие атрибуты:\n",
    "\n",
    "- Name: Уникальный идентификатор для каждого автомобиля.\n",
    "- MPG: Эффективность использования топлива измеряется в милях на галлон.\n",
    "- Cylinders: количество цилиндров в двигателе.\n",
    "- Displacement: объем двигателя с указанием его размера или мощности.\n",
    "- Horsepower: Выходная мощность двигателя.\n",
    "- Weight: Вес автомобиля.\n",
    "- Acceleration: Возможность увеличения скорости, измеряемая в секундах.\n",
    "- Model Year: год выпуска модели автомобиля.\n",
    "- Origin: Страна или регион происхождения каждого автомобиля."
   ]
  },
  {
   "cell_type": "markdown",
   "id": "1bfeb6c7",
   "metadata": {},
   "source": [
    "### Импорт библиотек"
   ]
  },
  {
   "cell_type": "code",
   "execution_count": 1,
   "id": "1beb5ee7",
   "metadata": {},
   "outputs": [],
   "source": [
    "import numpy as np\n",
    "import pandas as pd\n",
    "from matplotlib import pyplot as plt\n",
    "from sklearn.preprocessing import PolynomialFeatures\n",
    "from sklearn.preprocessing import StandardScaler, MinMaxScaler, RobustScaler\n",
    "from sklearn.feature_selection import SelectFromModel\n",
    "from sklearn.linear_model import LinearRegression, Lasso\n",
    "import seaborn as sns\n",
    "import warnings\n",
    "import math\n",
    "warnings.simplefilter('ignore')"
   ]
  },
  {
   "cell_type": "markdown",
   "id": "b78a941d",
   "metadata": {},
   "source": [
    "### Загрузка данных"
   ]
  },
  {
   "cell_type": "code",
   "execution_count": 2,
   "id": "d971239e",
   "metadata": {},
   "outputs": [],
   "source": [
    "data = pd.read_csv('Automobile.csv')"
   ]
  },
  {
   "cell_type": "markdown",
   "id": "3c89500c",
   "metadata": {},
   "source": [
    "Выведем первые строки"
   ]
  },
  {
   "cell_type": "code",
   "execution_count": 3,
   "id": "b8fdb08d",
   "metadata": {},
   "outputs": [
    {
     "data": {
      "text/html": [
       "<div>\n",
       "<style scoped>\n",
       "    .dataframe tbody tr th:only-of-type {\n",
       "        vertical-align: middle;\n",
       "    }\n",
       "\n",
       "    .dataframe tbody tr th {\n",
       "        vertical-align: top;\n",
       "    }\n",
       "\n",
       "    .dataframe thead th {\n",
       "        text-align: right;\n",
       "    }\n",
       "</style>\n",
       "<table border=\"1\" class=\"dataframe\">\n",
       "  <thead>\n",
       "    <tr style=\"text-align: right;\">\n",
       "      <th></th>\n",
       "      <th>name</th>\n",
       "      <th>mpg</th>\n",
       "      <th>cylinders</th>\n",
       "      <th>displacement</th>\n",
       "      <th>horsepower</th>\n",
       "      <th>weight</th>\n",
       "      <th>acceleration</th>\n",
       "      <th>model_year</th>\n",
       "      <th>origin</th>\n",
       "    </tr>\n",
       "  </thead>\n",
       "  <tbody>\n",
       "    <tr>\n",
       "      <th>0</th>\n",
       "      <td>chevrolet chevelle malibu</td>\n",
       "      <td>18.0</td>\n",
       "      <td>8</td>\n",
       "      <td>307.0</td>\n",
       "      <td>130.0</td>\n",
       "      <td>3504</td>\n",
       "      <td>12.0</td>\n",
       "      <td>70</td>\n",
       "      <td>usa</td>\n",
       "    </tr>\n",
       "    <tr>\n",
       "      <th>1</th>\n",
       "      <td>buick skylark 320</td>\n",
       "      <td>15.0</td>\n",
       "      <td>8</td>\n",
       "      <td>350.0</td>\n",
       "      <td>165.0</td>\n",
       "      <td>3693</td>\n",
       "      <td>11.5</td>\n",
       "      <td>70</td>\n",
       "      <td>usa</td>\n",
       "    </tr>\n",
       "    <tr>\n",
       "      <th>2</th>\n",
       "      <td>plymouth satellite</td>\n",
       "      <td>18.0</td>\n",
       "      <td>8</td>\n",
       "      <td>318.0</td>\n",
       "      <td>150.0</td>\n",
       "      <td>3436</td>\n",
       "      <td>11.0</td>\n",
       "      <td>70</td>\n",
       "      <td>usa</td>\n",
       "    </tr>\n",
       "    <tr>\n",
       "      <th>3</th>\n",
       "      <td>amc rebel sst</td>\n",
       "      <td>16.0</td>\n",
       "      <td>8</td>\n",
       "      <td>304.0</td>\n",
       "      <td>150.0</td>\n",
       "      <td>3433</td>\n",
       "      <td>12.0</td>\n",
       "      <td>70</td>\n",
       "      <td>usa</td>\n",
       "    </tr>\n",
       "    <tr>\n",
       "      <th>4</th>\n",
       "      <td>ford torino</td>\n",
       "      <td>17.0</td>\n",
       "      <td>8</td>\n",
       "      <td>302.0</td>\n",
       "      <td>140.0</td>\n",
       "      <td>3449</td>\n",
       "      <td>10.5</td>\n",
       "      <td>70</td>\n",
       "      <td>usa</td>\n",
       "    </tr>\n",
       "  </tbody>\n",
       "</table>\n",
       "</div>"
      ],
      "text/plain": [
       "                        name   mpg  cylinders  displacement  horsepower  \\\n",
       "0  chevrolet chevelle malibu  18.0          8         307.0       130.0   \n",
       "1          buick skylark 320  15.0          8         350.0       165.0   \n",
       "2         plymouth satellite  18.0          8         318.0       150.0   \n",
       "3              amc rebel sst  16.0          8         304.0       150.0   \n",
       "4                ford torino  17.0          8         302.0       140.0   \n",
       "\n",
       "   weight  acceleration  model_year origin  \n",
       "0    3504          12.0          70    usa  \n",
       "1    3693          11.5          70    usa  \n",
       "2    3436          11.0          70    usa  \n",
       "3    3433          12.0          70    usa  \n",
       "4    3449          10.5          70    usa  "
      ]
     },
     "execution_count": 3,
     "metadata": {},
     "output_type": "execute_result"
    }
   ],
   "source": [
    "data.head()"
   ]
  },
  {
   "cell_type": "markdown",
   "id": "5fb3bc50",
   "metadata": {},
   "source": [
    "Выведем типы данных для всех столбцов"
   ]
  },
  {
   "cell_type": "code",
   "execution_count": 4,
   "id": "18c89741",
   "metadata": {},
   "outputs": [
    {
     "data": {
      "text/plain": [
       "name             object\n",
       "mpg             float64\n",
       "cylinders         int64\n",
       "displacement    float64\n",
       "horsepower      float64\n",
       "weight            int64\n",
       "acceleration    float64\n",
       "model_year        int64\n",
       "origin           object\n",
       "dtype: object"
      ]
     },
     "execution_count": 4,
     "metadata": {},
     "output_type": "execute_result"
    }
   ],
   "source": [
    "data.dtypes"
   ]
  },
  {
   "cell_type": "markdown",
   "id": "6a427024",
   "metadata": {},
   "source": [
    "## Обработка нестандартных признаков"
   ]
  },
  {
   "cell_type": "markdown",
   "id": "265978f4",
   "metadata": {},
   "source": [
    "### Признак name. \n",
    "Извлечем бренд автомобиля из названия"
   ]
  },
  {
   "cell_type": "code",
   "execution_count": 5,
   "id": "010961e1",
   "metadata": {},
   "outputs": [
    {
     "data": {
      "text/html": [
       "<div>\n",
       "<style scoped>\n",
       "    .dataframe tbody tr th:only-of-type {\n",
       "        vertical-align: middle;\n",
       "    }\n",
       "\n",
       "    .dataframe tbody tr th {\n",
       "        vertical-align: top;\n",
       "    }\n",
       "\n",
       "    .dataframe thead th {\n",
       "        text-align: right;\n",
       "    }\n",
       "</style>\n",
       "<table border=\"1\" class=\"dataframe\">\n",
       "  <thead>\n",
       "    <tr style=\"text-align: right;\">\n",
       "      <th></th>\n",
       "      <th>name</th>\n",
       "      <th>mpg</th>\n",
       "      <th>cylinders</th>\n",
       "      <th>displacement</th>\n",
       "      <th>horsepower</th>\n",
       "      <th>weight</th>\n",
       "      <th>acceleration</th>\n",
       "      <th>model_year</th>\n",
       "      <th>origin</th>\n",
       "      <th>brand</th>\n",
       "    </tr>\n",
       "  </thead>\n",
       "  <tbody>\n",
       "    <tr>\n",
       "      <th>0</th>\n",
       "      <td>chevrolet chevelle malibu</td>\n",
       "      <td>18.0</td>\n",
       "      <td>8</td>\n",
       "      <td>307.0</td>\n",
       "      <td>130.0</td>\n",
       "      <td>3504</td>\n",
       "      <td>12.0</td>\n",
       "      <td>70</td>\n",
       "      <td>usa</td>\n",
       "      <td>chevrolet</td>\n",
       "    </tr>\n",
       "    <tr>\n",
       "      <th>1</th>\n",
       "      <td>buick skylark 320</td>\n",
       "      <td>15.0</td>\n",
       "      <td>8</td>\n",
       "      <td>350.0</td>\n",
       "      <td>165.0</td>\n",
       "      <td>3693</td>\n",
       "      <td>11.5</td>\n",
       "      <td>70</td>\n",
       "      <td>usa</td>\n",
       "      <td>buick</td>\n",
       "    </tr>\n",
       "    <tr>\n",
       "      <th>2</th>\n",
       "      <td>plymouth satellite</td>\n",
       "      <td>18.0</td>\n",
       "      <td>8</td>\n",
       "      <td>318.0</td>\n",
       "      <td>150.0</td>\n",
       "      <td>3436</td>\n",
       "      <td>11.0</td>\n",
       "      <td>70</td>\n",
       "      <td>usa</td>\n",
       "      <td>plymouth</td>\n",
       "    </tr>\n",
       "    <tr>\n",
       "      <th>3</th>\n",
       "      <td>amc rebel sst</td>\n",
       "      <td>16.0</td>\n",
       "      <td>8</td>\n",
       "      <td>304.0</td>\n",
       "      <td>150.0</td>\n",
       "      <td>3433</td>\n",
       "      <td>12.0</td>\n",
       "      <td>70</td>\n",
       "      <td>usa</td>\n",
       "      <td>amc</td>\n",
       "    </tr>\n",
       "    <tr>\n",
       "      <th>4</th>\n",
       "      <td>ford torino</td>\n",
       "      <td>17.0</td>\n",
       "      <td>8</td>\n",
       "      <td>302.0</td>\n",
       "      <td>140.0</td>\n",
       "      <td>3449</td>\n",
       "      <td>10.5</td>\n",
       "      <td>70</td>\n",
       "      <td>usa</td>\n",
       "      <td>ford</td>\n",
       "    </tr>\n",
       "  </tbody>\n",
       "</table>\n",
       "</div>"
      ],
      "text/plain": [
       "                        name   mpg  cylinders  displacement  horsepower  \\\n",
       "0  chevrolet chevelle malibu  18.0          8         307.0       130.0   \n",
       "1          buick skylark 320  15.0          8         350.0       165.0   \n",
       "2         plymouth satellite  18.0          8         318.0       150.0   \n",
       "3              amc rebel sst  16.0          8         304.0       150.0   \n",
       "4                ford torino  17.0          8         302.0       140.0   \n",
       "\n",
       "   weight  acceleration  model_year origin      brand  \n",
       "0    3504          12.0          70    usa  chevrolet  \n",
       "1    3693          11.5          70    usa      buick  \n",
       "2    3436          11.0          70    usa   plymouth  \n",
       "3    3433          12.0          70    usa        amc  \n",
       "4    3449          10.5          70    usa       ford  "
      ]
     },
     "execution_count": 5,
     "metadata": {},
     "output_type": "execute_result"
    }
   ],
   "source": [
    "data['brand'] = data['name'].apply(lambda x: x.split()[0])\n",
    "data.head()"
   ]
  },
  {
   "cell_type": "markdown",
   "id": "2ef3f77d",
   "metadata": {},
   "source": [
    "## Масштабирование признаков"
   ]
  },
  {
   "cell_type": "code",
   "execution_count": 6,
   "id": "9f671ce5",
   "metadata": {},
   "outputs": [],
   "source": [
    "numeric_columns = [column for column in data.columns if data.dtypes[column] != object]"
   ]
  },
  {
   "cell_type": "code",
   "execution_count": 7,
   "id": "692d6b05",
   "metadata": {},
   "outputs": [
    {
     "data": {
      "text/plain": [
       "['mpg',\n",
       " 'cylinders',\n",
       " 'displacement',\n",
       " 'horsepower',\n",
       " 'weight',\n",
       " 'acceleration',\n",
       " 'model_year']"
      ]
     },
     "execution_count": 7,
     "metadata": {},
     "output_type": "execute_result"
    }
   ],
   "source": [
    "numeric_columns"
   ]
  },
  {
   "cell_type": "markdown",
   "id": "d7e5b7fd",
   "metadata": {},
   "source": [
    "StandardScaler"
   ]
  },
  {
   "cell_type": "code",
   "execution_count": 8,
   "id": "23410def",
   "metadata": {},
   "outputs": [
    {
     "data": {
      "text/html": [
       "<div>\n",
       "<style scoped>\n",
       "    .dataframe tbody tr th:only-of-type {\n",
       "        vertical-align: middle;\n",
       "    }\n",
       "\n",
       "    .dataframe tbody tr th {\n",
       "        vertical-align: top;\n",
       "    }\n",
       "\n",
       "    .dataframe thead th {\n",
       "        text-align: right;\n",
       "    }\n",
       "</style>\n",
       "<table border=\"1\" class=\"dataframe\">\n",
       "  <thead>\n",
       "    <tr style=\"text-align: right;\">\n",
       "      <th></th>\n",
       "      <th>mpg</th>\n",
       "      <th>cylinders</th>\n",
       "      <th>displacement</th>\n",
       "      <th>horsepower</th>\n",
       "      <th>weight</th>\n",
       "      <th>acceleration</th>\n",
       "      <th>model_year</th>\n",
       "    </tr>\n",
       "  </thead>\n",
       "  <tbody>\n",
       "    <tr>\n",
       "      <th>0</th>\n",
       "      <td>-0.706439</td>\n",
       "      <td>1.498191</td>\n",
       "      <td>1.090604</td>\n",
       "      <td>0.664133</td>\n",
       "      <td>0.630870</td>\n",
       "      <td>-1.295498</td>\n",
       "      <td>-1.627426</td>\n",
       "    </tr>\n",
       "    <tr>\n",
       "      <th>1</th>\n",
       "      <td>-1.090751</td>\n",
       "      <td>1.498191</td>\n",
       "      <td>1.503514</td>\n",
       "      <td>1.574594</td>\n",
       "      <td>0.854333</td>\n",
       "      <td>-1.477038</td>\n",
       "      <td>-1.627426</td>\n",
       "    </tr>\n",
       "    <tr>\n",
       "      <th>2</th>\n",
       "      <td>-0.706439</td>\n",
       "      <td>1.498191</td>\n",
       "      <td>1.196232</td>\n",
       "      <td>1.184397</td>\n",
       "      <td>0.550470</td>\n",
       "      <td>-1.658577</td>\n",
       "      <td>-1.627426</td>\n",
       "    </tr>\n",
       "    <tr>\n",
       "      <th>3</th>\n",
       "      <td>-0.962647</td>\n",
       "      <td>1.498191</td>\n",
       "      <td>1.061796</td>\n",
       "      <td>1.184397</td>\n",
       "      <td>0.546923</td>\n",
       "      <td>-1.295498</td>\n",
       "      <td>-1.627426</td>\n",
       "    </tr>\n",
       "    <tr>\n",
       "      <th>4</th>\n",
       "      <td>-0.834543</td>\n",
       "      <td>1.498191</td>\n",
       "      <td>1.042591</td>\n",
       "      <td>0.924265</td>\n",
       "      <td>0.565841</td>\n",
       "      <td>-1.840117</td>\n",
       "      <td>-1.627426</td>\n",
       "    </tr>\n",
       "  </tbody>\n",
       "</table>\n",
       "</div>"
      ],
      "text/plain": [
       "        mpg  cylinders  displacement  horsepower    weight  acceleration  \\\n",
       "0 -0.706439   1.498191      1.090604    0.664133  0.630870     -1.295498   \n",
       "1 -1.090751   1.498191      1.503514    1.574594  0.854333     -1.477038   \n",
       "2 -0.706439   1.498191      1.196232    1.184397  0.550470     -1.658577   \n",
       "3 -0.962647   1.498191      1.061796    1.184397  0.546923     -1.295498   \n",
       "4 -0.834543   1.498191      1.042591    0.924265  0.565841     -1.840117   \n",
       "\n",
       "   model_year  \n",
       "0   -1.627426  \n",
       "1   -1.627426  \n",
       "2   -1.627426  \n",
       "3   -1.627426  \n",
       "4   -1.627426  "
      ]
     },
     "execution_count": 8,
     "metadata": {},
     "output_type": "execute_result"
    }
   ],
   "source": [
    "data1 = pd.DataFrame(StandardScaler().fit_transform(data[numeric_columns]), columns=numeric_columns);\n",
    "data1.head()"
   ]
  },
  {
   "cell_type": "code",
   "execution_count": 9,
   "id": "07c0b996",
   "metadata": {},
   "outputs": [
    {
     "data": {
      "text/html": [
       "<div>\n",
       "<style scoped>\n",
       "    .dataframe tbody tr th:only-of-type {\n",
       "        vertical-align: middle;\n",
       "    }\n",
       "\n",
       "    .dataframe tbody tr th {\n",
       "        vertical-align: top;\n",
       "    }\n",
       "\n",
       "    .dataframe thead th {\n",
       "        text-align: right;\n",
       "    }\n",
       "</style>\n",
       "<table border=\"1\" class=\"dataframe\">\n",
       "  <thead>\n",
       "    <tr style=\"text-align: right;\">\n",
       "      <th></th>\n",
       "      <th>mpg</th>\n",
       "      <th>cylinders</th>\n",
       "      <th>displacement</th>\n",
       "      <th>horsepower</th>\n",
       "      <th>weight</th>\n",
       "      <th>acceleration</th>\n",
       "      <th>model_year</th>\n",
       "    </tr>\n",
       "  </thead>\n",
       "  <tbody>\n",
       "    <tr>\n",
       "      <th>count</th>\n",
       "      <td>3.980000e+02</td>\n",
       "      <td>3.980000e+02</td>\n",
       "      <td>3.980000e+02</td>\n",
       "      <td>3.920000e+02</td>\n",
       "      <td>3.980000e+02</td>\n",
       "      <td>3.980000e+02</td>\n",
       "      <td>3.980000e+02</td>\n",
       "    </tr>\n",
       "    <tr>\n",
       "      <th>mean</th>\n",
       "      <td>7.141133e-17</td>\n",
       "      <td>-3.570567e-17</td>\n",
       "      <td>-1.785283e-17</td>\n",
       "      <td>-1.812609e-16</td>\n",
       "      <td>-1.606755e-16</td>\n",
       "      <td>-2.677925e-16</td>\n",
       "      <td>-1.642461e-15</td>\n",
       "    </tr>\n",
       "    <tr>\n",
       "      <th>std</th>\n",
       "      <td>1.001259e+00</td>\n",
       "      <td>1.001259e+00</td>\n",
       "      <td>1.001259e+00</td>\n",
       "      <td>1.001278e+00</td>\n",
       "      <td>1.001259e+00</td>\n",
       "      <td>1.001259e+00</td>\n",
       "      <td>1.001259e+00</td>\n",
       "    </tr>\n",
       "    <tr>\n",
       "      <th>min</th>\n",
       "      <td>-1.859374e+00</td>\n",
       "      <td>-1.444949e+00</td>\n",
       "      <td>-1.204411e+00</td>\n",
       "      <td>-1.520975e+00</td>\n",
       "      <td>-1.604943e+00</td>\n",
       "      <td>-2.747814e+00</td>\n",
       "      <td>-1.627426e+00</td>\n",
       "    </tr>\n",
       "    <tr>\n",
       "      <th>25%</th>\n",
       "      <td>-7.704907e-01</td>\n",
       "      <td>-8.563206e-01</td>\n",
       "      <td>-8.563178e-01</td>\n",
       "      <td>-7.665929e-01</td>\n",
       "      <td>-8.828266e-01</td>\n",
       "      <td>-6.328794e-01</td>\n",
       "      <td>-8.150739e-01</td>\n",
       "    </tr>\n",
       "    <tr>\n",
       "      <th>50%</th>\n",
       "      <td>-6.591883e-02</td>\n",
       "      <td>-8.563206e-01</td>\n",
       "      <td>-4.314040e-01</td>\n",
       "      <td>-2.853488e-01</td>\n",
       "      <td>-1.973624e-01</td>\n",
       "      <td>-2.472221e-02</td>\n",
       "      <td>-2.721449e-03</td>\n",
       "    </tr>\n",
       "    <tr>\n",
       "      <th>75%</th>\n",
       "      <td>7.027050e-01</td>\n",
       "      <td>1.498191e+00</td>\n",
       "      <td>6.584879e-01</td>\n",
       "      <td>5.600800e-01</td>\n",
       "      <td>7.538337e-01</td>\n",
       "      <td>5.834349e-01</td>\n",
       "      <td>8.096310e-01</td>\n",
       "    </tr>\n",
       "    <tr>\n",
       "      <th>max</th>\n",
       "      <td>2.957335e+00</td>\n",
       "      <td>1.498191e+00</td>\n",
       "      <td>2.511784e+00</td>\n",
       "      <td>3.265452e+00</td>\n",
       "      <td>2.565185e+00</td>\n",
       "      <td>3.351912e+00</td>\n",
       "      <td>1.621983e+00</td>\n",
       "    </tr>\n",
       "  </tbody>\n",
       "</table>\n",
       "</div>"
      ],
      "text/plain": [
       "                mpg     cylinders  displacement    horsepower        weight  \\\n",
       "count  3.980000e+02  3.980000e+02  3.980000e+02  3.920000e+02  3.980000e+02   \n",
       "mean   7.141133e-17 -3.570567e-17 -1.785283e-17 -1.812609e-16 -1.606755e-16   \n",
       "std    1.001259e+00  1.001259e+00  1.001259e+00  1.001278e+00  1.001259e+00   \n",
       "min   -1.859374e+00 -1.444949e+00 -1.204411e+00 -1.520975e+00 -1.604943e+00   \n",
       "25%   -7.704907e-01 -8.563206e-01 -8.563178e-01 -7.665929e-01 -8.828266e-01   \n",
       "50%   -6.591883e-02 -8.563206e-01 -4.314040e-01 -2.853488e-01 -1.973624e-01   \n",
       "75%    7.027050e-01  1.498191e+00  6.584879e-01  5.600800e-01  7.538337e-01   \n",
       "max    2.957335e+00  1.498191e+00  2.511784e+00  3.265452e+00  2.565185e+00   \n",
       "\n",
       "       acceleration    model_year  \n",
       "count  3.980000e+02  3.980000e+02  \n",
       "mean  -2.677925e-16 -1.642461e-15  \n",
       "std    1.001259e+00  1.001259e+00  \n",
       "min   -2.747814e+00 -1.627426e+00  \n",
       "25%   -6.328794e-01 -8.150739e-01  \n",
       "50%   -2.472221e-02 -2.721449e-03  \n",
       "75%    5.834349e-01  8.096310e-01  \n",
       "max    3.351912e+00  1.621983e+00  "
      ]
     },
     "execution_count": 9,
     "metadata": {},
     "output_type": "execute_result"
    }
   ],
   "source": [
    "data1.describe()"
   ]
  },
  {
   "cell_type": "markdown",
   "id": "d4fe921e",
   "metadata": {},
   "source": [
    "MinMaxScaler"
   ]
  },
  {
   "cell_type": "code",
   "execution_count": 10,
   "id": "e7ccb383",
   "metadata": {},
   "outputs": [
    {
     "data": {
      "text/html": [
       "<div>\n",
       "<style scoped>\n",
       "    .dataframe tbody tr th:only-of-type {\n",
       "        vertical-align: middle;\n",
       "    }\n",
       "\n",
       "    .dataframe tbody tr th {\n",
       "        vertical-align: top;\n",
       "    }\n",
       "\n",
       "    .dataframe thead th {\n",
       "        text-align: right;\n",
       "    }\n",
       "</style>\n",
       "<table border=\"1\" class=\"dataframe\">\n",
       "  <thead>\n",
       "    <tr style=\"text-align: right;\">\n",
       "      <th></th>\n",
       "      <th>mpg</th>\n",
       "      <th>cylinders</th>\n",
       "      <th>displacement</th>\n",
       "      <th>horsepower</th>\n",
       "      <th>weight</th>\n",
       "      <th>acceleration</th>\n",
       "      <th>model_year</th>\n",
       "    </tr>\n",
       "  </thead>\n",
       "  <tbody>\n",
       "    <tr>\n",
       "      <th>0</th>\n",
       "      <td>0.239362</td>\n",
       "      <td>1.0</td>\n",
       "      <td>0.617571</td>\n",
       "      <td>0.456522</td>\n",
       "      <td>0.536150</td>\n",
       "      <td>0.238095</td>\n",
       "      <td>0.0</td>\n",
       "    </tr>\n",
       "    <tr>\n",
       "      <th>1</th>\n",
       "      <td>0.159574</td>\n",
       "      <td>1.0</td>\n",
       "      <td>0.728682</td>\n",
       "      <td>0.646739</td>\n",
       "      <td>0.589736</td>\n",
       "      <td>0.208333</td>\n",
       "      <td>0.0</td>\n",
       "    </tr>\n",
       "    <tr>\n",
       "      <th>2</th>\n",
       "      <td>0.239362</td>\n",
       "      <td>1.0</td>\n",
       "      <td>0.645995</td>\n",
       "      <td>0.565217</td>\n",
       "      <td>0.516870</td>\n",
       "      <td>0.178571</td>\n",
       "      <td>0.0</td>\n",
       "    </tr>\n",
       "    <tr>\n",
       "      <th>3</th>\n",
       "      <td>0.186170</td>\n",
       "      <td>1.0</td>\n",
       "      <td>0.609819</td>\n",
       "      <td>0.565217</td>\n",
       "      <td>0.516019</td>\n",
       "      <td>0.238095</td>\n",
       "      <td>0.0</td>\n",
       "    </tr>\n",
       "    <tr>\n",
       "      <th>4</th>\n",
       "      <td>0.212766</td>\n",
       "      <td>1.0</td>\n",
       "      <td>0.604651</td>\n",
       "      <td>0.510870</td>\n",
       "      <td>0.520556</td>\n",
       "      <td>0.148810</td>\n",
       "      <td>0.0</td>\n",
       "    </tr>\n",
       "  </tbody>\n",
       "</table>\n",
       "</div>"
      ],
      "text/plain": [
       "        mpg  cylinders  displacement  horsepower    weight  acceleration  \\\n",
       "0  0.239362        1.0      0.617571    0.456522  0.536150      0.238095   \n",
       "1  0.159574        1.0      0.728682    0.646739  0.589736      0.208333   \n",
       "2  0.239362        1.0      0.645995    0.565217  0.516870      0.178571   \n",
       "3  0.186170        1.0      0.609819    0.565217  0.516019      0.238095   \n",
       "4  0.212766        1.0      0.604651    0.510870  0.520556      0.148810   \n",
       "\n",
       "   model_year  \n",
       "0         0.0  \n",
       "1         0.0  \n",
       "2         0.0  \n",
       "3         0.0  \n",
       "4         0.0  "
      ]
     },
     "execution_count": 10,
     "metadata": {},
     "output_type": "execute_result"
    }
   ],
   "source": [
    "data2 = pd.DataFrame(MinMaxScaler().fit_transform(data[numeric_columns]), columns=numeric_columns);\n",
    "data2.head()"
   ]
  },
  {
   "cell_type": "code",
   "execution_count": 11,
   "id": "ac3b0a09",
   "metadata": {},
   "outputs": [
    {
     "data": {
      "text/html": [
       "<div>\n",
       "<style scoped>\n",
       "    .dataframe tbody tr th:only-of-type {\n",
       "        vertical-align: middle;\n",
       "    }\n",
       "\n",
       "    .dataframe tbody tr th {\n",
       "        vertical-align: top;\n",
       "    }\n",
       "\n",
       "    .dataframe thead th {\n",
       "        text-align: right;\n",
       "    }\n",
       "</style>\n",
       "<table border=\"1\" class=\"dataframe\">\n",
       "  <thead>\n",
       "    <tr style=\"text-align: right;\">\n",
       "      <th></th>\n",
       "      <th>mpg</th>\n",
       "      <th>cylinders</th>\n",
       "      <th>displacement</th>\n",
       "      <th>horsepower</th>\n",
       "      <th>weight</th>\n",
       "      <th>acceleration</th>\n",
       "      <th>model_year</th>\n",
       "    </tr>\n",
       "  </thead>\n",
       "  <tbody>\n",
       "    <tr>\n",
       "      <th>count</th>\n",
       "      <td>398.000000</td>\n",
       "      <td>398.000000</td>\n",
       "      <td>398.000000</td>\n",
       "      <td>392.000000</td>\n",
       "      <td>398.000000</td>\n",
       "      <td>398.000000</td>\n",
       "      <td>398.000000</td>\n",
       "    </tr>\n",
       "    <tr>\n",
       "      <th>mean</th>\n",
       "      <td>0.386026</td>\n",
       "      <td>0.490955</td>\n",
       "      <td>0.324098</td>\n",
       "      <td>0.317768</td>\n",
       "      <td>0.384867</td>\n",
       "      <td>0.450482</td>\n",
       "      <td>0.500838</td>\n",
       "    </tr>\n",
       "    <tr>\n",
       "      <th>std</th>\n",
       "      <td>0.207872</td>\n",
       "      <td>0.340201</td>\n",
       "      <td>0.269431</td>\n",
       "      <td>0.209191</td>\n",
       "      <td>0.240103</td>\n",
       "      <td>0.164148</td>\n",
       "      <td>0.308136</td>\n",
       "    </tr>\n",
       "    <tr>\n",
       "      <th>min</th>\n",
       "      <td>0.000000</td>\n",
       "      <td>0.000000</td>\n",
       "      <td>0.000000</td>\n",
       "      <td>0.000000</td>\n",
       "      <td>0.000000</td>\n",
       "      <td>0.000000</td>\n",
       "      <td>0.000000</td>\n",
       "    </tr>\n",
       "    <tr>\n",
       "      <th>25%</th>\n",
       "      <td>0.226064</td>\n",
       "      <td>0.200000</td>\n",
       "      <td>0.093669</td>\n",
       "      <td>0.157609</td>\n",
       "      <td>0.173164</td>\n",
       "      <td>0.346726</td>\n",
       "      <td>0.250000</td>\n",
       "    </tr>\n",
       "    <tr>\n",
       "      <th>50%</th>\n",
       "      <td>0.372340</td>\n",
       "      <td>0.200000</td>\n",
       "      <td>0.208010</td>\n",
       "      <td>0.258152</td>\n",
       "      <td>0.337539</td>\n",
       "      <td>0.446429</td>\n",
       "      <td>0.500000</td>\n",
       "    </tr>\n",
       "    <tr>\n",
       "      <th>75%</th>\n",
       "      <td>0.531915</td>\n",
       "      <td>1.000000</td>\n",
       "      <td>0.501292</td>\n",
       "      <td>0.434783</td>\n",
       "      <td>0.565637</td>\n",
       "      <td>0.546131</td>\n",
       "      <td>0.750000</td>\n",
       "    </tr>\n",
       "    <tr>\n",
       "      <th>max</th>\n",
       "      <td>1.000000</td>\n",
       "      <td>1.000000</td>\n",
       "      <td>1.000000</td>\n",
       "      <td>1.000000</td>\n",
       "      <td>1.000000</td>\n",
       "      <td>1.000000</td>\n",
       "      <td>1.000000</td>\n",
       "    </tr>\n",
       "  </tbody>\n",
       "</table>\n",
       "</div>"
      ],
      "text/plain": [
       "              mpg   cylinders  displacement  horsepower      weight  \\\n",
       "count  398.000000  398.000000    398.000000  392.000000  398.000000   \n",
       "mean     0.386026    0.490955      0.324098    0.317768    0.384867   \n",
       "std      0.207872    0.340201      0.269431    0.209191    0.240103   \n",
       "min      0.000000    0.000000      0.000000    0.000000    0.000000   \n",
       "25%      0.226064    0.200000      0.093669    0.157609    0.173164   \n",
       "50%      0.372340    0.200000      0.208010    0.258152    0.337539   \n",
       "75%      0.531915    1.000000      0.501292    0.434783    0.565637   \n",
       "max      1.000000    1.000000      1.000000    1.000000    1.000000   \n",
       "\n",
       "       acceleration  model_year  \n",
       "count    398.000000  398.000000  \n",
       "mean       0.450482    0.500838  \n",
       "std        0.164148    0.308136  \n",
       "min        0.000000    0.000000  \n",
       "25%        0.346726    0.250000  \n",
       "50%        0.446429    0.500000  \n",
       "75%        0.546131    0.750000  \n",
       "max        1.000000    1.000000  "
      ]
     },
     "execution_count": 11,
     "metadata": {},
     "output_type": "execute_result"
    }
   ],
   "source": [
    "data2.describe()"
   ]
  },
  {
   "cell_type": "markdown",
   "id": "40a87d21",
   "metadata": {},
   "source": [
    "RobustScaler"
   ]
  },
  {
   "cell_type": "code",
   "execution_count": 12,
   "id": "6dd681e5",
   "metadata": {},
   "outputs": [
    {
     "data": {
      "text/html": [
       "<div>\n",
       "<style scoped>\n",
       "    .dataframe tbody tr th:only-of-type {\n",
       "        vertical-align: middle;\n",
       "    }\n",
       "\n",
       "    .dataframe tbody tr th {\n",
       "        vertical-align: top;\n",
       "    }\n",
       "\n",
       "    .dataframe thead th {\n",
       "        text-align: right;\n",
       "    }\n",
       "</style>\n",
       "<table border=\"1\" class=\"dataframe\">\n",
       "  <thead>\n",
       "    <tr style=\"text-align: right;\">\n",
       "      <th></th>\n",
       "      <th>mpg</th>\n",
       "      <th>cylinders</th>\n",
       "      <th>displacement</th>\n",
       "      <th>horsepower</th>\n",
       "      <th>weight</th>\n",
       "      <th>acceleration</th>\n",
       "      <th>model_year</th>\n",
       "    </tr>\n",
       "  </thead>\n",
       "  <tbody>\n",
       "    <tr>\n",
       "      <th>0</th>\n",
       "      <td>-0.434783</td>\n",
       "      <td>1.0</td>\n",
       "      <td>1.004754</td>\n",
       "      <td>0.715686</td>\n",
       "      <td>0.506050</td>\n",
       "      <td>-1.044776</td>\n",
       "      <td>-1.0</td>\n",
       "    </tr>\n",
       "    <tr>\n",
       "      <th>1</th>\n",
       "      <td>-0.695652</td>\n",
       "      <td>1.0</td>\n",
       "      <td>1.277338</td>\n",
       "      <td>1.401961</td>\n",
       "      <td>0.642586</td>\n",
       "      <td>-1.194030</td>\n",
       "      <td>-1.0</td>\n",
       "    </tr>\n",
       "    <tr>\n",
       "      <th>2</th>\n",
       "      <td>-0.434783</td>\n",
       "      <td>1.0</td>\n",
       "      <td>1.074485</td>\n",
       "      <td>1.107843</td>\n",
       "      <td>0.456926</td>\n",
       "      <td>-1.343284</td>\n",
       "      <td>-1.0</td>\n",
       "    </tr>\n",
       "    <tr>\n",
       "      <th>3</th>\n",
       "      <td>-0.608696</td>\n",
       "      <td>1.0</td>\n",
       "      <td>0.985737</td>\n",
       "      <td>1.107843</td>\n",
       "      <td>0.454759</td>\n",
       "      <td>-1.044776</td>\n",
       "      <td>-1.0</td>\n",
       "    </tr>\n",
       "    <tr>\n",
       "      <th>4</th>\n",
       "      <td>-0.521739</td>\n",
       "      <td>1.0</td>\n",
       "      <td>0.973059</td>\n",
       "      <td>0.911765</td>\n",
       "      <td>0.466318</td>\n",
       "      <td>-1.492537</td>\n",
       "      <td>-1.0</td>\n",
       "    </tr>\n",
       "  </tbody>\n",
       "</table>\n",
       "</div>"
      ],
      "text/plain": [
       "        mpg  cylinders  displacement  horsepower    weight  acceleration  \\\n",
       "0 -0.434783        1.0      1.004754    0.715686  0.506050     -1.044776   \n",
       "1 -0.695652        1.0      1.277338    1.401961  0.642586     -1.194030   \n",
       "2 -0.434783        1.0      1.074485    1.107843  0.456926     -1.343284   \n",
       "3 -0.608696        1.0      0.985737    1.107843  0.454759     -1.044776   \n",
       "4 -0.521739        1.0      0.973059    0.911765  0.466318     -1.492537   \n",
       "\n",
       "   model_year  \n",
       "0        -1.0  \n",
       "1        -1.0  \n",
       "2        -1.0  \n",
       "3        -1.0  \n",
       "4        -1.0  "
      ]
     },
     "execution_count": 12,
     "metadata": {},
     "output_type": "execute_result"
    }
   ],
   "source": [
    "data3 = pd.DataFrame(RobustScaler().fit_transform(data[numeric_columns]), columns=numeric_columns);\n",
    "data3.head()"
   ]
  },
  {
   "cell_type": "code",
   "execution_count": 13,
   "id": "a76d13c3",
   "metadata": {},
   "outputs": [
    {
     "data": {
      "text/html": [
       "<div>\n",
       "<style scoped>\n",
       "    .dataframe tbody tr th:only-of-type {\n",
       "        vertical-align: middle;\n",
       "    }\n",
       "\n",
       "    .dataframe tbody tr th {\n",
       "        vertical-align: top;\n",
       "    }\n",
       "\n",
       "    .dataframe thead th {\n",
       "        text-align: right;\n",
       "    }\n",
       "</style>\n",
       "<table border=\"1\" class=\"dataframe\">\n",
       "  <thead>\n",
       "    <tr style=\"text-align: right;\">\n",
       "      <th></th>\n",
       "      <th>mpg</th>\n",
       "      <th>cylinders</th>\n",
       "      <th>displacement</th>\n",
       "      <th>horsepower</th>\n",
       "      <th>weight</th>\n",
       "      <th>acceleration</th>\n",
       "      <th>model_year</th>\n",
       "    </tr>\n",
       "  </thead>\n",
       "  <tbody>\n",
       "    <tr>\n",
       "      <th>count</th>\n",
       "      <td>398.000000</td>\n",
       "      <td>398.000000</td>\n",
       "      <td>398.000000</td>\n",
       "      <td>392.000000</td>\n",
       "      <td>398.000000</td>\n",
       "      <td>398.000000</td>\n",
       "      <td>398.000000</td>\n",
       "    </tr>\n",
       "    <tr>\n",
       "      <th>mean</th>\n",
       "      <td>0.044745</td>\n",
       "      <td>0.363693</td>\n",
       "      <td>0.284792</td>\n",
       "      <td>0.215086</td>\n",
       "      <td>0.120588</td>\n",
       "      <td>0.020326</td>\n",
       "      <td>0.001675</td>\n",
       "    </tr>\n",
       "    <tr>\n",
       "      <th>std</th>\n",
       "      <td>0.679651</td>\n",
       "      <td>0.425251</td>\n",
       "      <td>0.660982</td>\n",
       "      <td>0.754729</td>\n",
       "      <td>0.611769</td>\n",
       "      <td>0.823191</td>\n",
       "      <td>0.616271</td>\n",
       "    </tr>\n",
       "    <tr>\n",
       "      <th>min</th>\n",
       "      <td>-1.217391</td>\n",
       "      <td>-0.250000</td>\n",
       "      <td>-0.510301</td>\n",
       "      <td>-0.931373</td>\n",
       "      <td>-0.860033</td>\n",
       "      <td>-2.238806</td>\n",
       "      <td>-1.000000</td>\n",
       "    </tr>\n",
       "    <tr>\n",
       "      <th>25%</th>\n",
       "      <td>-0.478261</td>\n",
       "      <td>0.000000</td>\n",
       "      <td>-0.280507</td>\n",
       "      <td>-0.362745</td>\n",
       "      <td>-0.418819</td>\n",
       "      <td>-0.500000</td>\n",
       "      <td>-0.500000</td>\n",
       "    </tr>\n",
       "    <tr>\n",
       "      <th>50%</th>\n",
       "      <td>0.000000</td>\n",
       "      <td>0.000000</td>\n",
       "      <td>0.000000</td>\n",
       "      <td>0.000000</td>\n",
       "      <td>0.000000</td>\n",
       "      <td>0.000000</td>\n",
       "      <td>0.000000</td>\n",
       "    </tr>\n",
       "    <tr>\n",
       "      <th>75%</th>\n",
       "      <td>0.521739</td>\n",
       "      <td>1.000000</td>\n",
       "      <td>0.719493</td>\n",
       "      <td>0.637255</td>\n",
       "      <td>0.581181</td>\n",
       "      <td>0.500000</td>\n",
       "      <td>0.500000</td>\n",
       "    </tr>\n",
       "    <tr>\n",
       "      <th>max</th>\n",
       "      <td>2.052174</td>\n",
       "      <td>1.000000</td>\n",
       "      <td>1.942948</td>\n",
       "      <td>2.676471</td>\n",
       "      <td>1.687918</td>\n",
       "      <td>2.776119</td>\n",
       "      <td>1.000000</td>\n",
       "    </tr>\n",
       "  </tbody>\n",
       "</table>\n",
       "</div>"
      ],
      "text/plain": [
       "              mpg   cylinders  displacement  horsepower      weight  \\\n",
       "count  398.000000  398.000000    398.000000  392.000000  398.000000   \n",
       "mean     0.044745    0.363693      0.284792    0.215086    0.120588   \n",
       "std      0.679651    0.425251      0.660982    0.754729    0.611769   \n",
       "min     -1.217391   -0.250000     -0.510301   -0.931373   -0.860033   \n",
       "25%     -0.478261    0.000000     -0.280507   -0.362745   -0.418819   \n",
       "50%      0.000000    0.000000      0.000000    0.000000    0.000000   \n",
       "75%      0.521739    1.000000      0.719493    0.637255    0.581181   \n",
       "max      2.052174    1.000000      1.942948    2.676471    1.687918   \n",
       "\n",
       "       acceleration  model_year  \n",
       "count    398.000000  398.000000  \n",
       "mean       0.020326    0.001675  \n",
       "std        0.823191    0.616271  \n",
       "min       -2.238806   -1.000000  \n",
       "25%       -0.500000   -0.500000  \n",
       "50%        0.000000    0.000000  \n",
       "75%        0.500000    0.500000  \n",
       "max        2.776119    1.000000  "
      ]
     },
     "execution_count": 13,
     "metadata": {},
     "output_type": "execute_result"
    }
   ],
   "source": [
    "data3.describe()"
   ]
  },
  {
   "cell_type": "markdown",
   "id": "84ec9085",
   "metadata": {},
   "source": [
    "## Обработка выбросов для числовых признаков"
   ]
  },
  {
   "cell_type": "markdown",
   "id": "d37a887b",
   "metadata": {},
   "source": [
    "Замена выбросов"
   ]
  },
  {
   "cell_type": "code",
   "execution_count": 14,
   "id": "0492816f",
   "metadata": {},
   "outputs": [
    {
     "data": {
      "image/png": "[encoded data removed]",
      "text/plain": [
       "<Figure size 1000x300 with 2 Axes>"
      ]
     },
     "metadata": {},
     "output_type": "display_data"
    }
   ],
   "source": [
    "fig = plt.figure(figsize=(10, 3))\n",
    "axes = fig.subplots(1, 2)\n",
    "sns.histplot(data['horsepower'], kde=True, color='brown', alpha=0.3, ax=axes[0])\n",
    "axes[0].title.set_text(f\"Гистограмма распределения мощности автомобиля\")\n",
    "axes[0].set_xlabel('Мощность автомобиля')\n",
    "axes[0].set_ylabel('Количество автомобилей')\n",
    "sns.boxplot(data['horsepower'], palette='pastel', ax=axes[1])\n",
    "axes[1].title.set_text(f\"Диаграмма размаха мощности автомобиля\")\n",
    "axes[1].set_xlabel('Мощность автомбиля')\n",
    "plt.show();"
   ]
  },
  {
   "cell_type": "code",
   "execution_count": 15,
   "id": "221818a9",
   "metadata": {},
   "outputs": [
    {
     "data": {
      "text/plain": [
       "(-1.5, 202.5)"
      ]
     },
     "execution_count": 15,
     "metadata": {},
     "output_type": "execute_result"
    }
   ],
   "source": [
    "K = 1.5\n",
    "col = 'horsepower'\n",
    "IQR = data[col].quantile(0.75) - data[col].quantile(0.25)\n",
    "lower_boundary = data[col].quantile(0.25) - (K * IQR)\n",
    "upper_boundary = data[col].quantile(0.75) + (K * IQR)\n",
    "round(lower_boundary, 2), round(upper_boundary, 2)"
   ]
  },
  {
   "cell_type": "code",
   "execution_count": 16,
   "id": "226a0894",
   "metadata": {},
   "outputs": [],
   "source": [
    "data[col] = np.where(data[col] > upper_boundary, upper_boundary, np.where(data[col] < lower_boundary, lower_boundary, data[col]))"
   ]
  },
  {
   "cell_type": "code",
   "execution_count": 17,
   "id": "7dbdd0d8",
   "metadata": {},
   "outputs": [
    {
     "data": {
      "image/png": "[encoded data removed]",
      "text/plain": [
       "<Figure size 1000x300 with 2 Axes>"
      ]
     },
     "metadata": {},
     "output_type": "display_data"
    }
   ],
   "source": [
    "fig = plt.figure(figsize=(10, 3))\n",
    "axes = fig.subplots(1, 2)\n",
    "sns.histplot(data['horsepower'], kde=True, color='brown', alpha=0.3, ax=axes[0])\n",
    "axes[0].title.set_text(f\"Гистограмма распределения мощности автомобиля\")\n",
    "axes[0].set_xlabel('Мощность автомобиля')\n",
    "axes[0].set_ylabel('Количество автомобилей')\n",
    "sns.boxplot(data['horsepower'], palette='pastel', ax=axes[1])\n",
    "axes[1].title.set_text(f\"Диаграмма размаха мощности автомобиля\")\n",
    "axes[1].set_xlabel('Мощность автомбиля')\n",
    "plt.show();"
   ]
  },
  {
   "cell_type": "markdown",
   "id": "d93b2414",
   "metadata": {},
   "source": [
    "Удаление выбросов"
   ]
  },
  {
   "cell_type": "code",
   "execution_count": 18,
   "id": "bd50949a",
   "metadata": {},
   "outputs": [
    {
     "data": {
      "image/png": "[encoded data removed]",
      "text/plain": [
       "<Figure size 1100x300 with 2 Axes>"
      ]
     },
     "metadata": {},
     "output_type": "display_data"
    }
   ],
   "source": [
    "fig = plt.figure(figsize=(11, 3))\n",
    "axes = fig.subplots(1, 2)\n",
    "sns.histplot(data['weight'], kde=True, color='brown', alpha=0.3, ax=axes[0])\n",
    "axes[0].title.set_text(f\"Гистограмма распределения веса автомобиля\")\n",
    "axes[0].set_xlabel('Вес автомобиля')\n",
    "axes[0].set_ylabel('Количество автомобилей')\n",
    "sns.boxplot(data['horsepower'], palette='pastel', ax=axes[1])\n",
    "axes[1].title.set_text(f\"Диаграмма размаха веса автомобиля\")\n",
    "axes[1].set_xlabel('Вес автомобиля')\n",
    "plt.show();"
   ]
  },
  {
   "cell_type": "code",
   "execution_count": 19,
   "id": "0735b3ca",
   "metadata": {},
   "outputs": [
    {
     "data": {
      "text/plain": [
       "(147.38, 5684.38)"
      ]
     },
     "execution_count": 19,
     "metadata": {},
     "output_type": "execute_result"
    }
   ],
   "source": [
    "K = 1.5\n",
    "col = 'weight'\n",
    "IQR = data[col].quantile(0.75) - data[col].quantile(0.25)\n",
    "lower_boundary = data[col].quantile(0.25) - (K * IQR)\n",
    "upper_boundary = data[col].quantile(0.75) + (K * IQR)\n",
    "round(lower_boundary, 2), round(upper_boundary, 2)"
   ]
  },
  {
   "cell_type": "code",
   "execution_count": 20,
   "id": "dadb9501",
   "metadata": {},
   "outputs": [],
   "source": [
    "data = data[data['horsepower'] < 5684.38]"
   ]
  },
  {
   "cell_type": "code",
   "execution_count": 21,
   "id": "419cb597",
   "metadata": {},
   "outputs": [
    {
     "data": {
      "image/png": "[encoded data removed]",
      "text/plain": [
       "<Figure size 1200x300 with 2 Axes>"
      ]
     },
     "metadata": {},
     "output_type": "display_data"
    }
   ],
   "source": [
    "fig = plt.figure(figsize=(12, 3))\n",
    "axes = fig.subplots(1, 2)\n",
    "sns.histplot(data['weight'], kde=True, color='brown', alpha=0.3, ax=axes[0])\n",
    "axes[0].title.set_text(f\"Гистограмма распределения веса автомобиля\")\n",
    "axes[0].set_xlabel('Вес автомобиля')\n",
    "axes[0].set_ylabel('Количество автомобилей')\n",
    "sns.boxplot(data['horsepower'], palette='pastel', ax=axes[1])\n",
    "axes[1].title.set_text(f\"Диаграмма размаха веса автомобиля\")\n",
    "axes[1].set_xlabel('Вес автомобиля')\n",
    "plt.show();"
   ]
  },
  {
   "cell_type": "markdown",
   "id": "c98605ea",
   "metadata": {},
   "source": [
    "## Отбор признаков"
   ]
  },
  {
   "cell_type": "markdown",
   "id": "6cbba2ff",
   "metadata": {},
   "source": [
    "Метод фильтрации"
   ]
  },
  {
   "cell_type": "code",
   "execution_count": 22,
   "id": "881a47c4",
   "metadata": {},
   "outputs": [
    {
     "name": "stdout",
     "output_type": "stream",
     "text": [
      "Всего записей: 392\n",
      "--------------------\n",
      "name: 301 уникальных значений\n",
      "\n",
      "mpg: 127 уникальных значений\n",
      "\n",
      "cylinders: 5 уникальных значений\n",
      "\n",
      "displacement: 81 уникальных значений\n",
      "\n",
      "horsepower: 88 уникальных значений\n",
      "\n",
      "weight: 346 уникальных значений\n",
      "\n",
      "acceleration: 95 уникальных значений\n",
      "\n",
      "model_year: 13 уникальных значений\n",
      "\n",
      "origin: 3 уникальных значений\n",
      "\n",
      "brand: 37 уникальных значений\n",
      "\n"
     ]
    }
   ],
   "source": [
    "print(f'Всего записей: {data.shape[0]}')\n",
    "print('--------------------')\n",
    "for column in data.columns:\n",
    "    print(f'{column}: {data[column].value_counts().count()} уникальных значений', end='\\n\\n')"
   ]
  },
  {
   "cell_type": "code",
   "execution_count": 23,
   "id": "385fcd2a",
   "metadata": {},
   "outputs": [
    {
     "data": {
      "text/html": [
       "<div>\n",
       "<style scoped>\n",
       "    .dataframe tbody tr th:only-of-type {\n",
       "        vertical-align: middle;\n",
       "    }\n",
       "\n",
       "    .dataframe tbody tr th {\n",
       "        vertical-align: top;\n",
       "    }\n",
       "\n",
       "    .dataframe thead th {\n",
       "        text-align: right;\n",
       "    }\n",
       "</style>\n",
       "<table border=\"1\" class=\"dataframe\">\n",
       "  <thead>\n",
       "    <tr style=\"text-align: right;\">\n",
       "      <th></th>\n",
       "      <th>mpg</th>\n",
       "      <th>cylinders</th>\n",
       "      <th>displacement</th>\n",
       "      <th>horsepower</th>\n",
       "      <th>weight</th>\n",
       "      <th>acceleration</th>\n",
       "      <th>model_year</th>\n",
       "    </tr>\n",
       "  </thead>\n",
       "  <tbody>\n",
       "    <tr>\n",
       "      <th>mpg</th>\n",
       "      <td>1.000000</td>\n",
       "      <td>-0.777618</td>\n",
       "      <td>-0.805127</td>\n",
       "      <td>-0.788856</td>\n",
       "      <td>-0.832244</td>\n",
       "      <td>0.423329</td>\n",
       "      <td>0.580541</td>\n",
       "    </tr>\n",
       "    <tr>\n",
       "      <th>cylinders</th>\n",
       "      <td>-0.777618</td>\n",
       "      <td>1.000000</td>\n",
       "      <td>0.950823</td>\n",
       "      <td>0.853232</td>\n",
       "      <td>0.897527</td>\n",
       "      <td>-0.504683</td>\n",
       "      <td>-0.345647</td>\n",
       "    </tr>\n",
       "    <tr>\n",
       "      <th>displacement</th>\n",
       "      <td>-0.805127</td>\n",
       "      <td>0.950823</td>\n",
       "      <td>1.000000</td>\n",
       "      <td>0.900759</td>\n",
       "      <td>0.932994</td>\n",
       "      <td>-0.543800</td>\n",
       "      <td>-0.369855</td>\n",
       "    </tr>\n",
       "    <tr>\n",
       "      <th>horsepower</th>\n",
       "      <td>-0.788856</td>\n",
       "      <td>0.853232</td>\n",
       "      <td>0.900759</td>\n",
       "      <td>1.000000</td>\n",
       "      <td>0.874438</td>\n",
       "      <td>-0.690328</td>\n",
       "      <td>-0.415158</td>\n",
       "    </tr>\n",
       "    <tr>\n",
       "      <th>weight</th>\n",
       "      <td>-0.832244</td>\n",
       "      <td>0.897527</td>\n",
       "      <td>0.932994</td>\n",
       "      <td>0.874438</td>\n",
       "      <td>1.000000</td>\n",
       "      <td>-0.416839</td>\n",
       "      <td>-0.309120</td>\n",
       "    </tr>\n",
       "    <tr>\n",
       "      <th>acceleration</th>\n",
       "      <td>0.423329</td>\n",
       "      <td>-0.504683</td>\n",
       "      <td>-0.543800</td>\n",
       "      <td>-0.690328</td>\n",
       "      <td>-0.416839</td>\n",
       "      <td>1.000000</td>\n",
       "      <td>0.290316</td>\n",
       "    </tr>\n",
       "    <tr>\n",
       "      <th>model_year</th>\n",
       "      <td>0.580541</td>\n",
       "      <td>-0.345647</td>\n",
       "      <td>-0.369855</td>\n",
       "      <td>-0.415158</td>\n",
       "      <td>-0.309120</td>\n",
       "      <td>0.290316</td>\n",
       "      <td>1.000000</td>\n",
       "    </tr>\n",
       "  </tbody>\n",
       "</table>\n",
       "</div>"
      ],
      "text/plain": [
       "                   mpg  cylinders  displacement  horsepower    weight  \\\n",
       "mpg           1.000000  -0.777618     -0.805127   -0.788856 -0.832244   \n",
       "cylinders    -0.777618   1.000000      0.950823    0.853232  0.897527   \n",
       "displacement -0.805127   0.950823      1.000000    0.900759  0.932994   \n",
       "horsepower   -0.788856   0.853232      0.900759    1.000000  0.874438   \n",
       "weight       -0.832244   0.897527      0.932994    0.874438  1.000000   \n",
       "acceleration  0.423329  -0.504683     -0.543800   -0.690328 -0.416839   \n",
       "model_year    0.580541  -0.345647     -0.369855   -0.415158 -0.309120   \n",
       "\n",
       "              acceleration  model_year  \n",
       "mpg               0.423329    0.580541  \n",
       "cylinders        -0.504683   -0.345647  \n",
       "displacement     -0.543800   -0.369855  \n",
       "horsepower       -0.690328   -0.415158  \n",
       "weight           -0.416839   -0.309120  \n",
       "acceleration      1.000000    0.290316  \n",
       "model_year        0.290316    1.000000  "
      ]
     },
     "execution_count": 23,
     "metadata": {},
     "output_type": "execute_result"
    }
   ],
   "source": [
    "data.corr()"
   ]
  },
  {
   "cell_type": "code",
   "execution_count": 24,
   "id": "412a1d13",
   "metadata": {},
   "outputs": [
    {
     "data": {
      "image/png": "[encoded data removed]",
      "text/plain": [
       "<Figure size 700x500 with 2 Axes>"
      ]
     },
     "metadata": {},
     "output_type": "display_data"
    }
   ],
   "source": [
    "plt.figure(figsize=(7, 5))\n",
    "sns.heatmap(data1.drop('horsepower', axis=1).corr(), vmin=-1, vmax=1, annot=True, cmap='coolwarm', fmt='.2f', linewidth=1)\n",
    "plt.title('Матрица корреляций признаков');"
   ]
  },
  {
   "cell_type": "code",
   "execution_count": 25,
   "id": "8c6c7334",
   "metadata": {},
   "outputs": [
    {
     "data": {
      "image/png": "[encoded data removed]",
      "text/plain": [
       "<Figure size 700x400 with 2 Axes>"
      ]
     },
     "metadata": {},
     "output_type": "display_data"
    }
   ],
   "source": [
    "plt.figure(figsize=(7, 4))\n",
    "sns.heatmap(pd.DataFrame(data.corr()['horsepower'].sort_values(ascending=False)[1:]), vmin=-1, vmax=1, annot=True, fmt='.2f', cmap='coolwarm')\n",
    "plt.title('Корреляция признаков с мощностью автомобиля');"
   ]
  },
  {
   "cell_type": "code",
   "execution_count": 26,
   "id": "d56221a6",
   "metadata": {},
   "outputs": [
    {
     "data": {
      "text/plain": [
       "['cylinders', 'displacement', 'weight']"
      ]
     },
     "execution_count": 26,
     "metadata": {},
     "output_type": "execute_result"
    }
   ],
   "source": [
    "columns1 = ['cylinders', 'displacement', 'weight']\n",
    "columns1"
   ]
  },
  {
   "cell_type": "markdown",
   "id": "20595b78",
   "metadata": {},
   "source": [
    "Метод обертывания"
   ]
  },
  {
   "cell_type": "code",
   "execution_count": 27,
   "id": "4302b222",
   "metadata": {},
   "outputs": [],
   "source": [
    "numeric_columns.remove('horsepower')"
   ]
  },
  {
   "cell_type": "code",
   "execution_count": 28,
   "id": "dbedc3a9",
   "metadata": {},
   "outputs": [
    {
     "ename": "NameError",
     "evalue": "name 'Combi' is not defined",
     "output_type": "error",
     "traceback": [
      "\u001b[0;31m---------------------------------------------------------------------------\u001b[0m",
      "\u001b[0;31mNameError\u001b[0m                                 Traceback (most recent call last)",
      "Cell \u001b[0;32mIn[28], line 1\u001b[0m\n\u001b[0;32m----> 1\u001b[0m \u001b[43mCombi\u001b[49m()\u001b[38;5;241m.\u001b[39mfit(np\u001b[38;5;241m.\u001b[39marray(data[numeric_columns]), data[\u001b[38;5;124m'\u001b[39m\u001b[38;5;124mhorsepower\u001b[39m\u001b[38;5;124m'\u001b[39m])\u001b[38;5;241m.\u001b[39mget_best_polynomial()\n",
      "\u001b[0;31mNameError\u001b[0m: name 'Combi' is not defined"
     ]
    }
   ],
   "source": [
    "Combi().fit(np.array(data[numeric_columns]), data['horsepower']).get_best_polynomial()"
   ]
  },
  {
   "cell_type": "code",
   "execution_count": 29,
   "id": "7af2efa6",
   "metadata": {},
   "outputs": [
    {
     "ename": "IndexError",
     "evalue": "list index out of range",
     "output_type": "error",
     "traceback": [
      "\u001b[0;31m---------------------------------------------------------------------------\u001b[0m",
      "\u001b[0;31mIndexError\u001b[0m                                Traceback (most recent call last)",
      "Cell \u001b[0;32mIn[29], line 1\u001b[0m\n\u001b[0;32m----> 1\u001b[0m columns2 \u001b[38;5;241m=\u001b[39m [numeric_columns[i\u001b[38;5;241m-\u001b[39m\u001b[38;5;241m1\u001b[39m] \u001b[38;5;28;01mfor\u001b[39;00m i \u001b[38;5;129;01min\u001b[39;00m [\u001b[38;5;241m1\u001b[39m, \u001b[38;5;241m2\u001b[39m, \u001b[38;5;241m4\u001b[39m, \u001b[38;5;241m6\u001b[39m, \u001b[38;5;241m7\u001b[39m]]\n\u001b[1;32m      2\u001b[0m columns2\n",
      "Cell \u001b[0;32mIn[29], line 1\u001b[0m, in \u001b[0;36m<listcomp>\u001b[0;34m(.0)\u001b[0m\n\u001b[0;32m----> 1\u001b[0m columns2 \u001b[38;5;241m=\u001b[39m [\u001b[43mnumeric_columns\u001b[49m\u001b[43m[\u001b[49m\u001b[43mi\u001b[49m\u001b[38;5;241;43m-\u001b[39;49m\u001b[38;5;241;43m1\u001b[39;49m\u001b[43m]\u001b[49m \u001b[38;5;28;01mfor\u001b[39;00m i \u001b[38;5;129;01min\u001b[39;00m [\u001b[38;5;241m1\u001b[39m, \u001b[38;5;241m2\u001b[39m, \u001b[38;5;241m4\u001b[39m, \u001b[38;5;241m6\u001b[39m, \u001b[38;5;241m7\u001b[39m]]\n\u001b[1;32m      2\u001b[0m columns2\n",
      "\u001b[0;31mIndexError\u001b[0m: list index out of range"
     ]
    }
   ],
   "source": [
    "columns2 = [numeric_columns[i-1] for i in [1, 2, 4, 6, 7]]\n",
    "columns2"
   ]
  },
  {
   "cell_type": "markdown",
   "id": "c6b47f68",
   "metadata": {},
   "source": [
    "Метод вложений"
   ]
  },
  {
   "cell_type": "code",
   "execution_count": 30,
   "id": "18adcadd",
   "metadata": {},
   "outputs": [
    {
     "data": {
      "text/plain": [
       "[('mpg', -0.06196897118917144),\n",
       " ('cylinders', -0.0),\n",
       " ('displacement', 0.07742422341565884),\n",
       " ('weight', 0.022098848742986604),\n",
       " ('acceleration', -4.422586344149425),\n",
       " ('model_year', -0.7039526618306746)]"
      ]
     },
     "execution_count": 30,
     "metadata": {},
     "output_type": "execute_result"
    }
   ],
   "source": [
    "e_ls1 = Lasso(random_state=1)\n",
    "e_ls1.fit(data[numeric_columns], data['horsepower'])\n",
    "list(zip(numeric_columns, e_ls1.coef_))"
   ]
  },
  {
   "cell_type": "code",
   "execution_count": 31,
   "id": "111b4b0b",
   "metadata": {},
   "outputs": [
    {
     "data": {
      "text/plain": [
       "[('mpg', True),\n",
       " ('cylinders', False),\n",
       " ('displacement', True),\n",
       " ('weight', True),\n",
       " ('acceleration', True),\n",
       " ('model_year', True)]"
      ]
     },
     "execution_count": 31,
     "metadata": {},
     "output_type": "execute_result"
    }
   ],
   "source": [
    "sel_e_ls1 = SelectFromModel(e_ls1)\n",
    "sel_e_ls1.fit(data[numeric_columns], data['horsepower'])\n",
    "list(zip(numeric_columns, sel_e_ls1.get_support()))"
   ]
  },
  {
   "cell_type": "code",
   "execution_count": 32,
   "id": "5cf88528",
   "metadata": {},
   "outputs": [
    {
     "data": {
      "text/plain": [
       "['mpg', 'cylinders', 'displacement', 'weight', 'acceleration', 'model_year']"
      ]
     },
     "execution_count": 32,
     "metadata": {},
     "output_type": "execute_result"
    }
   ],
   "source": [
    "columns3 = numeric_columns\n",
    "columns3"
   ]
  }
 ],
 "metadata": {
  "kernelspec": {
   "display_name": "Python 3 (ipykernel)",
   "language": "python",
   "name": "python3"
  },
  "language_info": {
   "codemirror_mode": {
    "name": "ipython",
    "version": 3
   },
   "file_extension": ".py",
   "mimetype": "text/x-python",
   "name": "python",
   "nbconvert_exporter": "python",
   "pygments_lexer": "ipython3",
   "version": "3.10.9"
  }
 },
 "nbformat": 4,
 "nbformat_minor": 5
}
