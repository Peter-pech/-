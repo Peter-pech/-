{
 "cells": [
  {
   "cell_type": "markdown",
   "id": "33d8882c",
   "metadata": {},
   "source": [
    "# Лабораторная работа\n",
    "\n",
    "## Предобработка текста\n",
    "\n",
    "Цель лабораторной работы: изучение методов предобработки текстов.\n",
    "\n",
    "### Задание:\n",
    "\n",
    "Для произвольного предложения или текста решите следующие задачи:\n",
    "\n",
    "- Токенизация.\n",
    "- Частеречная разметка.\n",
    "- Лемматизация.\n",
    "- Выделение (распознавание) именованных сущностей.\n",
    "- Разбор предложения."
   ]
  },
  {
   "cell_type": "markdown",
   "id": "2b2747f1",
   "metadata": {},
   "source": [
    "### Токенизация"
   ]
  },
  {
   "cell_type": "code",
   "execution_count": 1,
   "id": "fc67b2f6",
   "metadata": {},
   "outputs": [],
   "source": [
    "text1 = 'Криптовалюта - разновидность цифровой валюты, учёт внутренних расчётных единиц которой обеспечивает децентрализованная платёжная система (нет внутреннего или внешнего администратора или какого-либо его аналога), работающая в полностью автоматическом режиме.'\n",
    "text2 = 'Продакт-менеджер — это стратег, который руководит планированием, разработкой и запуском продукта или услуги. А ещё он креативщик, который придумывает новые продукты и функции, продолжает работать над продуктом после его появления на рынке. '\n",
    "text3 = 'Венчурные инвестиции — это инвестиции в перспективные новые компании (стартапы) или в компании, стремящиеся существенно расширить бизнес в ожидании получения высокого дохода в будущем.'"
   ]
  },
  {
   "cell_type": "code",
   "execution_count": 2,
   "id": "20d02c93",
   "metadata": {},
   "outputs": [
    {
     "name": "stderr",
     "output_type": "stream",
     "text": [
      "[nltk_data] Downloading package punkt to\n",
      "[nltk_data]     /Users/peterpechenkin/nltk_data...\n",
      "[nltk_data]   Unzipping tokenizers/punkt.zip.\n"
     ]
    },
    {
     "data": {
      "text/plain": [
       "True"
      ]
     },
     "execution_count": 2,
     "metadata": {},
     "output_type": "execute_result"
    }
   ],
   "source": [
    "import nltk\n",
    "from nltk.tokenize import punkt\n",
    "nltk.download('punkt')"
   ]
  },
  {
   "cell_type": "code",
   "execution_count": 3,
   "id": "88592648",
   "metadata": {},
   "outputs": [
    {
     "data": {
      "text/plain": [
       "['BlanklineTokenizer',\n",
       " 'LegalitySyllableTokenizer',\n",
       " 'LineTokenizer',\n",
       " 'MWETokenizer',\n",
       " 'NLTKWordTokenizer',\n",
       " 'PunktSentenceTokenizer',\n",
       " 'RegexpTokenizer',\n",
       " 'ReppTokenizer',\n",
       " 'SExprTokenizer',\n",
       " 'SpaceTokenizer',\n",
       " 'StanfordSegmenter',\n",
       " 'SyllableTokenizer',\n",
       " 'TabTokenizer',\n",
       " 'TextTilingTokenizer',\n",
       " 'ToktokTokenizer',\n",
       " 'TreebankWordDetokenizer',\n",
       " 'TreebankWordTokenizer',\n",
       " 'TweetTokenizer']"
      ]
     },
     "execution_count": 3,
     "metadata": {},
     "output_type": "execute_result"
    }
   ],
   "source": [
    "from nltk import tokenize\n",
    "dir(tokenize)[:18]"
   ]
  },
  {
   "cell_type": "code",
   "execution_count": 4,
   "id": "9db488fd",
   "metadata": {},
   "outputs": [
    {
     "data": {
      "text/plain": [
       "['Криптовалюта',\n",
       " '-',\n",
       " 'разновидность',\n",
       " 'цифровой',\n",
       " 'валюты',\n",
       " ',',\n",
       " 'учёт',\n",
       " 'внутренних',\n",
       " 'расчётных',\n",
       " 'единиц',\n",
       " 'которой',\n",
       " 'обеспечивает',\n",
       " 'децентрализованная',\n",
       " 'платёжная',\n",
       " 'система',\n",
       " '(',\n",
       " 'нет',\n",
       " 'внутреннего',\n",
       " 'или',\n",
       " 'внешнего',\n",
       " 'администратора',\n",
       " 'или',\n",
       " 'какого',\n",
       " '-',\n",
       " 'либо',\n",
       " 'его',\n",
       " 'аналога',\n",
       " '),',\n",
       " 'работающая',\n",
       " 'в',\n",
       " 'полностью',\n",
       " 'автоматическом',\n",
       " 'режиме',\n",
       " '.']"
      ]
     },
     "execution_count": 4,
     "metadata": {},
     "output_type": "execute_result"
    }
   ],
   "source": [
    "nltk_tk_1 = nltk.WordPunctTokenizer()\n",
    "nltk_tk_1.tokenize(text1)"
   ]
  },
  {
   "cell_type": "code",
   "execution_count": 5,
   "id": "1c86f853",
   "metadata": {},
   "outputs": [
    {
     "name": "stdout",
     "output_type": "stream",
     "text": [
      "1\n"
     ]
    },
    {
     "data": {
      "text/plain": [
       "['Криптовалюта - разновидность цифровой валюты, учёт внутренних расчётных единиц которой обеспечивает децентрализованная платёжная система (нет внутреннего или внешнего администратора или какого-либо его аналога), работающая в полностью автоматическом режиме.']"
      ]
     },
     "execution_count": 5,
     "metadata": {},
     "output_type": "execute_result"
    }
   ],
   "source": [
    "# Токенизация по предложениям\n",
    "nltk_tk_sents = nltk.tokenize.sent_tokenize(text1)\n",
    "print(len(nltk_tk_sents))\n",
    "nltk_tk_sents"
   ]
  },
  {
   "cell_type": "code",
   "execution_count": 13,
   "id": "82e97a34",
   "metadata": {},
   "outputs": [],
   "source": [
    "from razdel import tokenize, sentenize"
   ]
  },
  {
   "cell_type": "code",
   "execution_count": 14,
   "id": "9cbbe311",
   "metadata": {},
   "outputs": [
    {
     "data": {
      "text/plain": [
       "[Substring(0, 12, 'Криптовалюта'),\n",
       " Substring(13, 14, '-'),\n",
       " Substring(15, 28, 'разновидность'),\n",
       " Substring(29, 37, 'цифровой'),\n",
       " Substring(38, 44, 'валюты'),\n",
       " Substring(44, 45, ','),\n",
       " Substring(46, 50, 'учёт'),\n",
       " Substring(51, 61, 'внутренних'),\n",
       " Substring(62, 71, 'расчётных'),\n",
       " Substring(72, 78, 'единиц'),\n",
       " Substring(79, 86, 'которой'),\n",
       " Substring(87, 99, 'обеспечивает'),\n",
       " Substring(100, 118, 'децентрализованная'),\n",
       " Substring(119, 128, 'платёжная'),\n",
       " Substring(129, 136, 'система'),\n",
       " Substring(137, 138, '('),\n",
       " Substring(138, 141, 'нет'),\n",
       " Substring(142, 153, 'внутреннего'),\n",
       " Substring(154, 157, 'или'),\n",
       " Substring(158, 166, 'внешнего'),\n",
       " Substring(167, 181, 'администратора'),\n",
       " Substring(182, 185, 'или'),\n",
       " Substring(186, 197, 'какого-либо'),\n",
       " Substring(198, 201, 'его'),\n",
       " Substring(202, 209, 'аналога'),\n",
       " Substring(209, 210, ')'),\n",
       " Substring(210, 211, ','),\n",
       " Substring(212, 222, 'работающая'),\n",
       " Substring(223, 224, 'в'),\n",
       " Substring(225, 234, 'полностью'),\n",
       " Substring(235, 249, 'автоматическом'),\n",
       " Substring(250, 256, 'режиме'),\n",
       " Substring(256, 257, '.')]"
      ]
     },
     "execution_count": 14,
     "metadata": {},
     "output_type": "execute_result"
    }
   ],
   "source": [
    "n_tok_text1 = list(tokenize(text1))\n",
    "n_tok_text1"
   ]
  },
  {
   "cell_type": "code",
   "execution_count": 15,
   "id": "91b55b27",
   "metadata": {},
   "outputs": [
    {
     "data": {
      "text/plain": [
       "['Криптовалюта',\n",
       " '-',\n",
       " 'разновидность',\n",
       " 'цифровой',\n",
       " 'валюты',\n",
       " ',',\n",
       " 'учёт',\n",
       " 'внутренних',\n",
       " 'расчётных',\n",
       " 'единиц',\n",
       " 'которой',\n",
       " 'обеспечивает',\n",
       " 'децентрализованная',\n",
       " 'платёжная',\n",
       " 'система',\n",
       " '(',\n",
       " 'нет',\n",
       " 'внутреннего',\n",
       " 'или',\n",
       " 'внешнего',\n",
       " 'администратора',\n",
       " 'или',\n",
       " 'какого-либо',\n",
       " 'его',\n",
       " 'аналога',\n",
       " ')',\n",
       " ',',\n",
       " 'работающая',\n",
       " 'в',\n",
       " 'полностью',\n",
       " 'автоматическом',\n",
       " 'режиме',\n",
       " '.']"
      ]
     },
     "execution_count": 15,
     "metadata": {},
     "output_type": "execute_result"
    }
   ],
   "source": [
    "[_.text for _ in n_tok_text1]"
   ]
  },
  {
   "cell_type": "code",
   "execution_count": 16,
   "id": "fa47dec1",
   "metadata": {},
   "outputs": [
    {
     "data": {
      "text/plain": [
       "[Substring(0,\n",
       "           257,\n",
       "           'Криптовалюта - разновидность цифровой валюты, учёт внутренних расчётных единиц которой обеспечивает децентрализованная платёжная система (нет внутреннего или внешнего администратора или какого-либо его аналога), работающая в полностью автоматическом режиме.')]"
      ]
     },
     "execution_count": 16,
     "metadata": {},
     "output_type": "execute_result"
    }
   ],
   "source": [
    "n_sen_text1 = list(sentenize(text1))\n",
    "n_sen_text1"
   ]
  },
  {
   "cell_type": "code",
   "execution_count": 17,
   "id": "b8a32eb6",
   "metadata": {},
   "outputs": [
    {
     "data": {
      "text/plain": [
       "(['Криптовалюта - разновидность цифровой валюты, учёт внутренних расчётных единиц которой обеспечивает децентрализованная платёжная система (нет внутреннего или внешнего администратора или какого-либо его аналога), работающая в полностью автоматическом режиме.'],\n",
       " 1)"
      ]
     },
     "execution_count": 17,
     "metadata": {},
     "output_type": "execute_result"
    }
   ],
   "source": [
    "[_.text for _ in n_sen_text1], len([_.text for _ in n_sen_text1])"
   ]
  },
  {
   "cell_type": "code",
   "execution_count": 18,
   "id": "6e467e36",
   "metadata": {},
   "outputs": [],
   "source": [
    "# Этот вариант токенизации нужен для последующей обработки\n",
    "def n_sentenize(text):\n",
    "    n_sen_chunk = []\n",
    "    for sent in sentenize(text):\n",
    "        tokens = [_.text for _ in tokenize(sent.text)]\n",
    "        n_sen_chunk.append(tokens)\n",
    "    return n_sen_chunk"
   ]
  },
  {
   "cell_type": "code",
   "execution_count": 19,
   "id": "65a00a34",
   "metadata": {},
   "outputs": [
    {
     "data": {
      "text/plain": [
       "[['Криптовалюта',\n",
       "  '-',\n",
       "  'разновидность',\n",
       "  'цифровой',\n",
       "  'валюты',\n",
       "  ',',\n",
       "  'учёт',\n",
       "  'внутренних',\n",
       "  'расчётных',\n",
       "  'единиц',\n",
       "  'которой',\n",
       "  'обеспечивает',\n",
       "  'децентрализованная',\n",
       "  'платёжная',\n",
       "  'система',\n",
       "  '(',\n",
       "  'нет',\n",
       "  'внутреннего',\n",
       "  'или',\n",
       "  'внешнего',\n",
       "  'администратора',\n",
       "  'или',\n",
       "  'какого-либо',\n",
       "  'его',\n",
       "  'аналога',\n",
       "  ')',\n",
       "  ',',\n",
       "  'работающая',\n",
       "  'в',\n",
       "  'полностью',\n",
       "  'автоматическом',\n",
       "  'режиме',\n",
       "  '.']]"
      ]
     },
     "execution_count": 19,
     "metadata": {},
     "output_type": "execute_result"
    }
   ],
   "source": [
    "n_sen_chunk_1 = n_sentenize(text1)\n",
    "n_sen_chunk_1"
   ]
  },
  {
   "cell_type": "code",
   "execution_count": 20,
   "id": "61b68950",
   "metadata": {},
   "outputs": [
    {
     "data": {
      "text/plain": [
       "[['Продакт-менеджер',\n",
       "  '—',\n",
       "  'это',\n",
       "  'стратег',\n",
       "  ',',\n",
       "  'который',\n",
       "  'руководит',\n",
       "  'планированием',\n",
       "  ',',\n",
       "  'разработкой',\n",
       "  'и',\n",
       "  'запуском',\n",
       "  'продукта',\n",
       "  'или',\n",
       "  'услуги',\n",
       "  '.'],\n",
       " ['А',\n",
       "  'ещё',\n",
       "  'он',\n",
       "  'креативщик',\n",
       "  ',',\n",
       "  'который',\n",
       "  'придумывает',\n",
       "  'новые',\n",
       "  'продукты',\n",
       "  'и',\n",
       "  'функции',\n",
       "  ',',\n",
       "  'продолжает',\n",
       "  'работать',\n",
       "  'над',\n",
       "  'продуктом',\n",
       "  'после',\n",
       "  'его',\n",
       "  'появления',\n",
       "  'на',\n",
       "  'рынке',\n",
       "  '.']]"
      ]
     },
     "execution_count": 20,
     "metadata": {},
     "output_type": "execute_result"
    }
   ],
   "source": [
    "n_sen_chunk_2 = n_sentenize(text2)\n",
    "n_sen_chunk_2"
   ]
  },
  {
   "cell_type": "code",
   "execution_count": 21,
   "id": "606f2bce",
   "metadata": {},
   "outputs": [
    {
     "data": {
      "text/plain": [
       "[['Венчурные',\n",
       "  'инвестиции',\n",
       "  '—',\n",
       "  'это',\n",
       "  'инвестиции',\n",
       "  'в',\n",
       "  'перспективные',\n",
       "  'новые',\n",
       "  'компании',\n",
       "  '(',\n",
       "  'стартапы',\n",
       "  ')',\n",
       "  'или',\n",
       "  'в',\n",
       "  'компании',\n",
       "  ',',\n",
       "  'стремящиеся',\n",
       "  'существенно',\n",
       "  'расширить',\n",
       "  'бизнес',\n",
       "  'в',\n",
       "  'ожидании',\n",
       "  'получения',\n",
       "  'высокого',\n",
       "  'дохода',\n",
       "  'в',\n",
       "  'будущем',\n",
       "  '.']]"
      ]
     },
     "execution_count": 21,
     "metadata": {},
     "output_type": "execute_result"
    }
   ],
   "source": [
    "n_sen_chunk_3 = n_sentenize(text3)\n",
    "n_sen_chunk_3"
   ]
  },
  {
   "cell_type": "markdown",
   "id": "82b3c1d2",
   "metadata": {},
   "source": [
    "### Частеречная разметка"
   ]
  },
  {
   "cell_type": "code",
   "execution_count": 25,
   "id": "b70825c2",
   "metadata": {},
   "outputs": [],
   "source": [
    "from navec import Navec\n",
    "from slovnet import Morph"
   ]
  },
  {
   "cell_type": "code",
   "execution_count": 30,
   "id": "f88cb66f",
   "metadata": {},
   "outputs": [],
   "source": [
    "# Файл необходимо скачать по ссылке https://github.com/natasha/navec#downloads\n",
    "navec = Navec.load('navec_news_v1_1B_250K_300d_100q.tar')"
   ]
  },
  {
   "cell_type": "code",
   "execution_count": 31,
   "id": "70ca149d",
   "metadata": {},
   "outputs": [],
   "source": [
    "# Файл необходимо скачать по ссылке https://github.com/natasha/slovnet#downloads\n",
    "n_morph = Morph.load('slovnet_morph_news_v1.tar', batch_size=4)"
   ]
  },
  {
   "cell_type": "code",
   "execution_count": 32,
   "id": "10ddf955",
   "metadata": {},
   "outputs": [],
   "source": [
    "morph_res = n_morph.navec(navec)"
   ]
  },
  {
   "cell_type": "code",
   "execution_count": 33,
   "id": "6616a02c",
   "metadata": {},
   "outputs": [],
   "source": [
    "def print_pos(markup):\n",
    "    for token in markup.tokens:\n",
    "        print('{} - {}'.format(token.text, token.tag))"
   ]
  },
  {
   "cell_type": "code",
   "execution_count": 34,
   "id": "c9e3e4cd",
   "metadata": {},
   "outputs": [
    {
     "name": "stdout",
     "output_type": "stream",
     "text": [
      "Криптовалюта - NOUN|Animacy=Inan|Case=Nom|Gender=Fem|Number=Sing\n",
      "- - PUNCT\n",
      "разновидность - NOUN|Animacy=Inan|Case=Nom|Gender=Fem|Number=Sing\n",
      "цифровой - ADJ|Case=Gen|Degree=Pos|Gender=Fem|Number=Sing\n",
      "валюты - NOUN|Animacy=Inan|Case=Gen|Gender=Fem|Number=Sing\n",
      ", - PUNCT\n",
      "учёт - NOUN|Animacy=Inan|Case=Acc|Gender=Masc|Number=Sing\n",
      "внутренних - ADJ|Case=Gen|Degree=Pos|Number=Plur\n",
      "расчётных - ADJ|Case=Gen|Degree=Pos|Number=Plur\n",
      "единиц - NOUN|Animacy=Inan|Case=Gen|Gender=Fem|Number=Plur\n",
      "которой - PRON|Case=Gen|Gender=Fem|Number=Sing\n",
      "обеспечивает - VERB|Aspect=Imp|Mood=Ind|Number=Sing|Person=3|Tense=Pres|VerbForm=Fin|Voice=Act\n",
      "децентрализованная - ADJ|Case=Nom|Degree=Pos|Gender=Fem|Number=Sing\n",
      "платёжная - ADJ|Case=Nom|Degree=Pos|Gender=Fem|Number=Sing\n",
      "система - NOUN|Animacy=Inan|Case=Nom|Gender=Fem|Number=Sing\n",
      "( - PUNCT\n",
      "нет - VERB|Aspect=Imp|Mood=Ind|Number=Sing|Person=3|Tense=Pres|VerbForm=Fin|Voice=Act\n",
      "внутреннего - ADJ|Case=Gen|Degree=Pos|Gender=Masc|Number=Sing\n",
      "или - CCONJ\n",
      "внешнего - ADJ|Case=Gen|Degree=Pos|Gender=Masc|Number=Sing\n",
      "администратора - NOUN|Animacy=Anim|Case=Gen|Gender=Masc|Number=Sing\n",
      "или - CCONJ\n",
      "какого-либо - DET|Case=Gen|Gender=Masc|Number=Sing\n",
      "его - DET\n",
      "аналога - NOUN|Animacy=Inan|Case=Gen|Gender=Masc|Number=Sing\n",
      ") - PUNCT\n",
      ", - PUNCT\n",
      "работающая - VERB|Aspect=Imp|Case=Nom|Gender=Fem|Number=Sing|Tense=Pres|VerbForm=Part|Voice=Act\n",
      "в - ADP\n",
      "полностью - ADV|Degree=Pos\n",
      "автоматическом - ADJ|Case=Loc|Degree=Pos|Gender=Masc|Number=Sing\n",
      "режиме - NOUN|Animacy=Inan|Case=Loc|Gender=Masc|Number=Sing\n",
      ". - PUNCT\n"
     ]
    },
    {
     "data": {
      "text/plain": [
       "[None]"
      ]
     },
     "execution_count": 34,
     "metadata": {},
     "output_type": "execute_result"
    }
   ],
   "source": [
    "n_text1_markup = list(_ for _ in n_morph.map(n_sen_chunk_1))\n",
    "[print_pos(x) for x in n_text1_markup]"
   ]
  },
  {
   "cell_type": "code",
   "execution_count": 35,
   "id": "c92e91e2",
   "metadata": {},
   "outputs": [
    {
     "name": "stdout",
     "output_type": "stream",
     "text": [
      "Продакт-менеджер - PROPN|Animacy=Anim|Case=Nom|Gender=Masc|Number=Sing\n",
      "— - PUNCT\n",
      "это - PART\n",
      "стратег - NOUN|Animacy=Anim|Case=Nom|Gender=Masc|Number=Sing\n",
      ", - PUNCT\n",
      "который - PRON|Case=Nom|Gender=Masc|Number=Sing\n",
      "руководит - VERB|Aspect=Imp|Mood=Ind|Number=Sing|Person=3|Tense=Pres|VerbForm=Fin|Voice=Act\n",
      "планированием - NOUN|Animacy=Inan|Case=Ins|Gender=Neut|Number=Sing\n",
      ", - PUNCT\n",
      "разработкой - NOUN|Animacy=Inan|Case=Ins|Gender=Fem|Number=Sing\n",
      "и - CCONJ\n",
      "запуском - NOUN|Animacy=Inan|Case=Ins|Gender=Masc|Number=Sing\n",
      "продукта - NOUN|Animacy=Inan|Case=Gen|Gender=Masc|Number=Sing\n",
      "или - CCONJ\n",
      "услуги - NOUN|Animacy=Inan|Case=Gen|Gender=Fem|Number=Sing\n",
      ". - PUNCT\n",
      "А - PROPN|Animacy=Anim|Case=Nom|Gender=Masc|Number=Sing\n",
      "ещё - ADV|Degree=Pos\n",
      "он - PRON|Case=Nom|Gender=Masc|Number=Sing|Person=3\n",
      "креативщик - NOUN|Animacy=Anim|Case=Nom|Gender=Masc|Number=Sing\n",
      ", - PUNCT\n",
      "который - PRON|Case=Nom|Gender=Masc|Number=Sing\n",
      "придумывает - VERB|Aspect=Imp|Mood=Ind|Number=Sing|Person=3|Tense=Pres|VerbForm=Fin|Voice=Act\n",
      "новые - ADJ|Animacy=Inan|Case=Acc|Degree=Pos|Number=Plur\n",
      "продукты - NOUN|Animacy=Inan|Case=Acc|Gender=Masc|Number=Plur\n",
      "и - CCONJ\n",
      "функции - NOUN|Animacy=Inan|Case=Acc|Gender=Fem|Number=Plur\n",
      ", - PUNCT\n",
      "продолжает - VERB|Aspect=Imp|Mood=Ind|Number=Sing|Person=3|Tense=Pres|VerbForm=Fin|Voice=Act\n",
      "работать - VERB|Aspect=Imp|VerbForm=Inf|Voice=Act\n",
      "над - ADP\n",
      "продуктом - NOUN|Animacy=Inan|Case=Ins|Gender=Masc|Number=Sing\n",
      "после - ADP\n",
      "его - DET\n",
      "появления - NOUN|Animacy=Inan|Case=Gen|Gender=Neut|Number=Sing\n",
      "на - ADP\n",
      "рынке - NOUN|Animacy=Inan|Case=Loc|Gender=Masc|Number=Sing\n",
      ". - PUNCT\n"
     ]
    },
    {
     "data": {
      "text/plain": [
       "[None, None]"
      ]
     },
     "execution_count": 35,
     "metadata": {},
     "output_type": "execute_result"
    }
   ],
   "source": [
    "n_text2_markup = list(n_morph.map(n_sen_chunk_2))\n",
    "[print_pos(x) for x in n_text2_markup]"
   ]
  },
  {
   "cell_type": "code",
   "execution_count": 36,
   "id": "7b16bd5a",
   "metadata": {},
   "outputs": [
    {
     "name": "stdout",
     "output_type": "stream",
     "text": [
      "Венчурные - ADJ|Case=Nom|Degree=Pos|Number=Plur\n",
      "инвестиции - NOUN|Animacy=Inan|Case=Nom|Gender=Fem|Number=Plur\n",
      "— - PUNCT\n",
      "это - PART\n",
      "инвестиции - NOUN|Animacy=Inan|Case=Nom|Gender=Fem|Number=Plur\n",
      "в - ADP\n",
      "перспективные - ADJ|Animacy=Inan|Case=Acc|Degree=Pos|Number=Plur\n",
      "новые - ADJ|Animacy=Inan|Case=Acc|Degree=Pos|Number=Plur\n",
      "компании - NOUN|Animacy=Inan|Case=Acc|Gender=Fem|Number=Plur\n",
      "( - PUNCT\n",
      "стартапы - NOUN|Animacy=Inan|Case=Nom|Gender=Masc|Number=Plur\n",
      ") - PUNCT\n",
      "или - CCONJ\n",
      "в - ADP\n",
      "компании - NOUN|Animacy=Inan|Case=Loc|Gender=Fem|Number=Sing\n",
      ", - PUNCT\n",
      "стремящиеся - VERB|Animacy=Inan|Aspect=Imp|Case=Acc|Number=Plur|Tense=Pres|VerbForm=Part|Voice=Act\n",
      "существенно - ADV|Degree=Pos\n",
      "расширить - VERB|Aspect=Perf|VerbForm=Inf|Voice=Act\n",
      "бизнес - NOUN|Animacy=Inan|Case=Acc|Gender=Masc|Number=Sing\n",
      "в - ADP\n",
      "ожидании - NOUN|Animacy=Inan|Case=Loc|Gender=Neut|Number=Sing\n",
      "получения - NOUN|Animacy=Inan|Case=Gen|Gender=Neut|Number=Sing\n",
      "высокого - ADJ|Case=Gen|Degree=Pos|Gender=Masc|Number=Sing\n",
      "дохода - NOUN|Animacy=Inan|Case=Gen|Gender=Masc|Number=Sing\n",
      "в - ADP\n",
      "будущем - NOUN|Animacy=Inan|Case=Loc|Gender=Neut|Number=Sing\n",
      ". - PUNCT\n"
     ]
    },
    {
     "data": {
      "text/plain": [
       "[None]"
      ]
     },
     "execution_count": 36,
     "metadata": {},
     "output_type": "execute_result"
    }
   ],
   "source": [
    "n_text3_markup = list(n_morph.map(n_sen_chunk_3))\n",
    "[print_pos(x) for x in n_text3_markup]"
   ]
  },
  {
   "cell_type": "markdown",
   "id": "e1a7aba8",
   "metadata": {},
   "source": [
    "### Лемматизация"
   ]
  },
  {
   "cell_type": "code",
   "execution_count": 39,
   "id": "166550ee",
   "metadata": {},
   "outputs": [],
   "source": [
    "from natasha import Doc, Segmenter, NewsEmbedding, NewsMorphTagger, MorphVocab"
   ]
  },
  {
   "cell_type": "code",
   "execution_count": 40,
   "id": "31286af1",
   "metadata": {},
   "outputs": [],
   "source": [
    "def n_lemmatize(text):\n",
    "    emb = NewsEmbedding()\n",
    "    morph_tagger = NewsMorphTagger(emb)\n",
    "    segmenter = Segmenter()\n",
    "    morph_vocab = MorphVocab()\n",
    "    doc = Doc(text)\n",
    "    doc.segment(segmenter)\n",
    "    doc.tag_morph(morph_tagger)\n",
    "    for token in doc.tokens:\n",
    "        token.lemmatize(morph_vocab)\n",
    "    return doc"
   ]
  },
  {
   "cell_type": "code",
   "execution_count": 41,
   "id": "cacc4c33",
   "metadata": {},
   "outputs": [
    {
     "data": {
      "text/plain": [
       "{'Криптовалюта': 'криптовалюта',\n",
       " '-': '-',\n",
       " 'разновидность': 'разновидность',\n",
       " 'цифровой': 'цифровой',\n",
       " 'валюты': 'валюта',\n",
       " ',': ',',\n",
       " 'учёт': 'учет',\n",
       " 'внутренних': 'внутренний',\n",
       " 'расчётных': 'расчетный',\n",
       " 'единиц': 'единица',\n",
       " 'которой': 'который',\n",
       " 'обеспечивает': 'обеспечивать',\n",
       " 'децентрализованная': 'децентрализованный',\n",
       " 'платёжная': 'платежный',\n",
       " 'система': 'система',\n",
       " '(': '(',\n",
       " 'нет': 'нет',\n",
       " 'внутреннего': 'внутренний',\n",
       " 'или': 'или',\n",
       " 'внешнего': 'внешний',\n",
       " 'администратора': 'администратор',\n",
       " 'какого-либо': 'какой-либо',\n",
       " 'его': 'его',\n",
       " 'аналога': 'аналог',\n",
       " ')': ')',\n",
       " 'работающая': 'работать',\n",
       " 'в': 'в',\n",
       " 'полностью': 'полностью',\n",
       " 'автоматическом': 'автоматический',\n",
       " 'режиме': 'режим',\n",
       " '.': '.'}"
      ]
     },
     "execution_count": 41,
     "metadata": {},
     "output_type": "execute_result"
    }
   ],
   "source": [
    "n_doc1 = n_lemmatize(text1)\n",
    "{_.text: _.lemma for _ in n_doc1.tokens}"
   ]
  },
  {
   "cell_type": "code",
   "execution_count": 42,
   "id": "8cb245bc",
   "metadata": {},
   "outputs": [
    {
     "data": {
      "text/plain": [
       "{'Продакт-менеджер': 'продакт-менеджер',\n",
       " '—': '—',\n",
       " 'это': 'это',\n",
       " 'стратег': 'стратег',\n",
       " ',': ',',\n",
       " 'который': 'который',\n",
       " 'руководит': 'руководить',\n",
       " 'планированием': 'планирование',\n",
       " 'разработкой': 'разработка',\n",
       " 'и': 'и',\n",
       " 'запуском': 'запуск',\n",
       " 'продукта': 'продукт',\n",
       " 'или': 'или',\n",
       " 'услуги': 'услуга',\n",
       " '.': '.',\n",
       " 'А': 'а',\n",
       " 'ещё': 'еще',\n",
       " 'он': 'он',\n",
       " 'креативщик': 'креативщик',\n",
       " 'придумывает': 'придумывать',\n",
       " 'новые': 'новый',\n",
       " 'продукты': 'продукт',\n",
       " 'функции': 'функция',\n",
       " 'продолжает': 'продолжать',\n",
       " 'работать': 'работать',\n",
       " 'над': 'над',\n",
       " 'продуктом': 'продукт',\n",
       " 'после': 'после',\n",
       " 'его': 'его',\n",
       " 'появления': 'появление',\n",
       " 'на': 'на',\n",
       " 'рынке': 'рынок'}"
      ]
     },
     "execution_count": 42,
     "metadata": {},
     "output_type": "execute_result"
    }
   ],
   "source": [
    "n_doc2 = n_lemmatize(text2)\n",
    "{_.text: _.lemma for _ in n_doc2.tokens}"
   ]
  },
  {
   "cell_type": "code",
   "execution_count": 43,
   "id": "302104a4",
   "metadata": {},
   "outputs": [
    {
     "data": {
      "text/plain": [
       "{'Венчурные': 'венчурный',\n",
       " 'инвестиции': 'инвестиция',\n",
       " '—': '—',\n",
       " 'это': 'это',\n",
       " 'в': 'в',\n",
       " 'перспективные': 'перспективный',\n",
       " 'новые': 'новый',\n",
       " 'компании': 'компания',\n",
       " '(': '(',\n",
       " 'стартапы': 'стартап',\n",
       " ')': ')',\n",
       " 'или': 'или',\n",
       " ',': ',',\n",
       " 'стремящиеся': 'стремиться',\n",
       " 'существенно': 'существенно',\n",
       " 'расширить': 'расширить',\n",
       " 'бизнес': 'бизнес',\n",
       " 'ожидании': 'ожидание',\n",
       " 'получения': 'получение',\n",
       " 'высокого': 'высокий',\n",
       " 'дохода': 'доход',\n",
       " 'будущем': 'будущее',\n",
       " '.': '.'}"
      ]
     },
     "execution_count": 43,
     "metadata": {},
     "output_type": "execute_result"
    }
   ],
   "source": [
    "n_doc3 = n_lemmatize(text3)\n",
    "{_.text: _.lemma for _ in n_doc3.tokens}"
   ]
  },
  {
   "cell_type": "markdown",
   "id": "fd1dc817",
   "metadata": {},
   "source": [
    "### Выделение (распознавание) именованных сущностей"
   ]
  },
  {
   "cell_type": "code",
   "execution_count": 44,
   "id": "b4c77e29",
   "metadata": {},
   "outputs": [],
   "source": [
    "from slovnet import NER\n",
    "from ipymarkup import show_span_ascii_markup as show_markup"
   ]
  },
  {
   "cell_type": "code",
   "execution_count": 46,
   "id": "5d1e1212",
   "metadata": {},
   "outputs": [],
   "source": [
    "ner = NER.load('slovnet_ner_news_v1.tar')\n",
    "ner_res = ner.navec(navec)\n",
    "markup_ner3 = ner(text3)"
   ]
  },
  {
   "cell_type": "code",
   "execution_count": 47,
   "id": "4beca315",
   "metadata": {},
   "outputs": [
    {
     "data": {
      "text/plain": [
       "SpanMarkup(\n",
       "    text='Венчурные инвестиции — это инвестиции в перспективные новые компании (стартапы) или в компании, стремящиеся существенно расширить бизнес в ожидании получения высокого дохода в будущем.',\n",
       "    spans=[]\n",
       ")"
      ]
     },
     "execution_count": 47,
     "metadata": {},
     "output_type": "execute_result"
    }
   ],
   "source": [
    "markup_ner3"
   ]
  },
  {
   "cell_type": "code",
   "execution_count": 48,
   "id": "1bd7195e",
   "metadata": {},
   "outputs": [
    {
     "name": "stdout",
     "output_type": "stream",
     "text": [
      "Венчурные инвестиции — это инвестиции в перспективные новые компании \n",
      "(стартапы) или в компании, стремящиеся существенно расширить бизнес в \n",
      "ожидании получения высокого дохода в будущем.\n"
     ]
    }
   ],
   "source": [
    "show_markup(markup_ner3.text, markup_ner3.spans)"
   ]
  },
  {
   "cell_type": "markdown",
   "id": "ebfea289",
   "metadata": {},
   "source": [
    "### Разбор предложения"
   ]
  },
  {
   "cell_type": "code",
   "execution_count": 49,
   "id": "7d6e5cfd",
   "metadata": {},
   "outputs": [],
   "source": [
    "from natasha import NewsSyntaxParser"
   ]
  },
  {
   "cell_type": "code",
   "execution_count": 50,
   "id": "b230fd32",
   "metadata": {},
   "outputs": [],
   "source": [
    "emb = NewsEmbedding()\n",
    "syntax_parser = NewsSyntaxParser(emb)"
   ]
  },
  {
   "cell_type": "code",
   "execution_count": 51,
   "id": "df108087",
   "metadata": {},
   "outputs": [
    {
     "name": "stdout",
     "output_type": "stream",
     "text": [
      "              ┌──► Криптовалюта       nsubj\n",
      "              │ ┌► -                  punct\n",
      "┌─────┌─────┌─└─└─ разновидность      \n",
      "│     │     │   ┌► цифровой           amod\n",
      "│ ┌───│     └──►└─ валюты             nmod\n",
      "│ │   │         ┌► ,                  punct\n",
      "│ │   │ ┌──────►└─ учёт               conj\n",
      "│ │   │ │     ┌──► внутренних         amod\n",
      "│ │   │ │     │ ┌► расчётных          amod\n",
      "│ │   │ │   ┌►└─└─ единиц             obj\n",
      "│ │   │ │   │ └──► которой            nmod\n",
      "│ │   │ │ ┌►└───── обеспечивает       acl:relcl\n",
      "│ │   │ │ │   ┌──► децентрализованная amod\n",
      "│ │   │ │ │   │ ┌► платёжная          amod\n",
      "│ │ ┌─└►└─└─┌─└─└─ система            conj\n",
      "│ │ │ │     │   ┌► (                  punct\n",
      "│ │ │ │ ┌───└──►└─ нет                parataxis\n",
      "│ │ │ │ │ ┌──►┌─── внутреннего        amod\n",
      "│ │ │ │ │ │   │ ┌► или                cc\n",
      "│ │ │ │ │ │   └►└─ внешнего           conj\n",
      "│ └►│ │ │ │        администратора     conj\n",
      "│   │ │ │ │ ┌────► или                cc\n",
      "│   │ │ │ │ │ ┌──► какого-либо        det\n",
      "│   │ │ │ │ │ │ ┌► его                det\n",
      "│   │ └►│ └─└─└─└─ аналога            parataxis\n",
      "│   │   └────────► )                  punct\n",
      "│   │           ┌► ,                  punct\n",
      "│   └────►┌─────└─ работающая         acl\n",
      "│         │ ┌────► в                  case\n",
      "│         │ │   ┌► полностью          advmod\n",
      "│         │ │ ┌►└─ автоматическом     acl\n",
      "│         └►└─└─── режиме             obl\n",
      "└────────────────► .                  punct\n"
     ]
    }
   ],
   "source": [
    "\n",
    "n_doc1.parse_syntax(syntax_parser)\n",
    "n_doc1.sents[0].syntax.print()"
   ]
  },
  {
   "cell_type": "code",
   "execution_count": 54,
   "id": "2fe1fb9d",
   "metadata": {},
   "outputs": [
    {
     "name": "stdout",
     "output_type": "stream",
     "text": [
      "        ┌──► Продакт-менеджер nsubj\n",
      "        │    —                \n",
      "        │ ┌► это              expl\n",
      "┌─────┌─└─└─ стратег          \n",
      "│     │ ┌──► ,                punct\n",
      "│     │ │ ┌► который          nsubj\n",
      "│     └►└─└─ руководит        acl:relcl\n",
      "│ ┌─┌─┌─└──► планированием    obj\n",
      "│ │ │ │   ┌► ,                punct\n",
      "│ │ │ └──►└─ разработкой      conj\n",
      "│ │ │     ┌► и                cc\n",
      "│ │ └──►┌─└─ запуском         conj\n",
      "│ │     └──► продукта         nmod\n",
      "│ │       ┌► или              cc\n",
      "│ └──────►└─ услуги           conj\n",
      "└──────────► .                punct\n"
     ]
    }
   ],
   "source": [
    "n_doc2.parse_syntax(syntax_parser)\n",
    "n_doc2.sents[0].syntax.print()"
   ]
  },
  {
   "cell_type": "code",
   "execution_count": 55,
   "id": "9bf0ecd1",
   "metadata": {},
   "outputs": [
    {
     "name": "stdout",
     "output_type": "stream",
     "text": [
      "            ┌► Венчурные     amod\n",
      "        ┌►┌─└─ инвестиции    nsubj\n",
      "        │ └──► —             punct\n",
      "        │   ┌► это           expl\n",
      "┌─┌───┌─└───└─ инвестиции    \n",
      "│ │   │ ┌────► в             case\n",
      "│ │   │ │ ┌──► перспективные amod\n",
      "│ │   │ │ │ ┌► новые         amod\n",
      "│ │ ┌─└►└─└─└─ компании      nmod\n",
      "│ │ │   │   ┌► (             punct\n",
      "│ │ │   └►┌─└─ стартапы      parataxis\n",
      "│ │ │     └──► )             punct\n",
      "│ │ │     ┌──► или           cc\n",
      "│ │ │     │ ┌► в             case\n",
      "│ │ └────►└─└─ компании      conj\n",
      "│ │         ┌► ,             punct\n",
      "│ └──────►┌─└─ стремящиеся   acl\n",
      "│         │ ┌► существенно   advmod\n",
      "│     ┌─┌─└►└─ расширить     xcomp\n",
      "│     │ │ └──► бизнес        obj\n",
      "│     │ │   ┌► в             case\n",
      "│     │ └►┌─└─ ожидании      obl\n",
      "│     │ ┌─└──► получения     nmod\n",
      "│     │ │   ┌► высокого      amod\n",
      "│     │ └──►└─ дохода        nmod\n",
      "│     │     ┌► в             case\n",
      "│     └────►└─ будущем       obl\n",
      "└────────────► .             punct\n"
     ]
    }
   ],
   "source": [
    "n_doc3.parse_syntax(syntax_parser)\n",
    "n_doc3.sents[0].syntax.print()"
   ]
  }
 ],
 "metadata": {
  "kernelspec": {
   "display_name": "Python 3 (ipykernel)",
   "language": "python",
   "name": "python3"
  },
  "language_info": {
   "codemirror_mode": {
    "name": "ipython",
    "version": 3
   },
   "file_extension": ".py",
   "mimetype": "text/x-python",
   "name": "python",
   "nbconvert_exporter": "python",
   "pygments_lexer": "ipython3",
   "version": "3.10.9"
  }
 },
 "nbformat": 4,
 "nbformat_minor": 5
}
