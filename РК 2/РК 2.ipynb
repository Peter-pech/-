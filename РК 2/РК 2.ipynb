{
 "cells": [
  {
   "cell_type": "markdown",
   "id": "9758b573",
   "metadata": {},
   "source": [
    "# Рубежный контроль №2\n",
    "\n",
    "### Тема: Методы обработки текстов.\n",
    "### Решение задачи классификации текстов.\n",
    "\n",
    "Необходимо решить задачу классификации текстов на основе любого выбранного Вами датасета (кроме примера, который рассматривался в лекции). Классификация может быть бинарной или многоклассовой. Целевой признак из выбранного Вами датасета может иметь любой физический смысл, примером является задача анализа тональности текста.\n",
    "\n",
    "Необходимо сформировать два варианта векторизации признаков - на основе CountVectorizer и на основе TfidfVectorizer.\n",
    "\n",
    "ИУ5-23М: LinearSVC, LogisticRegression"
   ]
  },
  {
   "cell_type": "code",
   "execution_count": 1,
   "id": "0bee6db2",
   "metadata": {},
   "outputs": [],
   "source": [
    "from sklearn.feature_extraction.text import CountVectorizer, TfidfVectorizer\n",
    "from sklearn.model_selection import train_test_split\n",
    "from sklearn.svm import LinearSVC\n",
    "from sklearn.linear_model import LogisticRegression\n",
    "from sklearn.metrics import accuracy_score\n",
    "import pandas as pd\n",
    "import time"
   ]
  },
  {
   "cell_type": "code",
   "execution_count": 2,
   "id": "3ab46f13",
   "metadata": {},
   "outputs": [],
   "source": [
    "# Загрузка данных\n",
    "df = pd.read_csv('cryptonews.csv')"
   ]
  },
  {
   "cell_type": "code",
   "execution_count": 3,
   "id": "b985914e",
   "metadata": {},
   "outputs": [
    {
     "data": {
      "text/html": [
       "<div>\n",
       "<style scoped>\n",
       "    .dataframe tbody tr th:only-of-type {\n",
       "        vertical-align: middle;\n",
       "    }\n",
       "\n",
       "    .dataframe tbody tr th {\n",
       "        vertical-align: top;\n",
       "    }\n",
       "\n",
       "    .dataframe thead th {\n",
       "        text-align: right;\n",
       "    }\n",
       "</style>\n",
       "<table border=\"1\" class=\"dataframe\">\n",
       "  <thead>\n",
       "    <tr style=\"text-align: right;\">\n",
       "      <th></th>\n",
       "      <th>date</th>\n",
       "      <th>sentiment</th>\n",
       "      <th>source</th>\n",
       "      <th>subject</th>\n",
       "      <th>text</th>\n",
       "      <th>title</th>\n",
       "      <th>url</th>\n",
       "    </tr>\n",
       "  </thead>\n",
       "  <tbody>\n",
       "    <tr>\n",
       "      <th>0</th>\n",
       "      <td>2023-12-19 06:40:41</td>\n",
       "      <td>{'class': 'negative', 'polarity': -0.1, 'subje...</td>\n",
       "      <td>CryptoNews</td>\n",
       "      <td>altcoin</td>\n",
       "      <td>Grayscale CEO Michael Sonnenshein believes the...</td>\n",
       "      <td>Grayscale CEO Calls for Simultaneous Approval ...</td>\n",
       "      <td>https://cryptonews.comhttps://cryptonews.com/n...</td>\n",
       "    </tr>\n",
       "    <tr>\n",
       "      <th>1</th>\n",
       "      <td>2023-12-19 06:03:24</td>\n",
       "      <td>{'class': 'neutral', 'polarity': 0.0, 'subject...</td>\n",
       "      <td>CryptoNews</td>\n",
       "      <td>blockchain</td>\n",
       "      <td>In an exclusive interview with CryptoNews, Man...</td>\n",
       "      <td>Indian Government is Actively Collaborating Wi...</td>\n",
       "      <td>https://cryptonews.comhttps://cryptonews.com/n...</td>\n",
       "    </tr>\n",
       "    <tr>\n",
       "      <th>2</th>\n",
       "      <td>2023-12-19 05:55:14</td>\n",
       "      <td>{'class': 'positive', 'polarity': 0.05, 'subje...</td>\n",
       "      <td>CryptoNews</td>\n",
       "      <td>blockchain</td>\n",
       "      <td>According to the Federal Court ruling on Decem...</td>\n",
       "      <td>Judge Approves Settlement: Binance to Pay $1.5...</td>\n",
       "      <td>https://cryptonews.comhttps://cryptonews.com/n...</td>\n",
       "    </tr>\n",
       "    <tr>\n",
       "      <th>3</th>\n",
       "      <td>2023-12-19 05:35:26</td>\n",
       "      <td>{'class': 'positive', 'polarity': 0.5, 'subjec...</td>\n",
       "      <td>CoinTelegraph</td>\n",
       "      <td>blockchain</td>\n",
       "      <td>Some suggest EVM inscriptions are the latest w...</td>\n",
       "      <td>Why a gold rush for inscriptions has broken ha...</td>\n",
       "      <td>https://cointelegraph.com/news/inscriptions-ev...</td>\n",
       "    </tr>\n",
       "    <tr>\n",
       "      <th>4</th>\n",
       "      <td>2023-12-19 05:31:08</td>\n",
       "      <td>{'class': 'neutral', 'polarity': 0.0, 'subject...</td>\n",
       "      <td>CoinTelegraph</td>\n",
       "      <td>ethereum</td>\n",
       "      <td>A decision by bloXroute Labs to start censorin...</td>\n",
       "      <td>‘Concerning precedent’ — bloXroute Labs' MEV r...</td>\n",
       "      <td>https://cointelegraph.com/news/concerning-prec...</td>\n",
       "    </tr>\n",
       "    <tr>\n",
       "      <th>5</th>\n",
       "      <td>2023-12-19 05:25:00</td>\n",
       "      <td>{'class': 'negative', 'polarity': -0.01, 'subj...</td>\n",
       "      <td>CryptoPotato</td>\n",
       "      <td>bitcoin</td>\n",
       "      <td>Yonsei found that during BTC’s rally in early ...</td>\n",
       "      <td>Is This Why Bitcoin’s Price Rally Was Halted? ...</td>\n",
       "      <td>https://cryptopotato.com/is-this-why-bitcoins-...</td>\n",
       "    </tr>\n",
       "    <tr>\n",
       "      <th>6</th>\n",
       "      <td>2023-12-19 04:50:11</td>\n",
       "      <td>{'class': 'positive', 'polarity': 0.3, 'subjec...</td>\n",
       "      <td>CryptoNews</td>\n",
       "      <td>bitcoin</td>\n",
       "      <td>Cathie Wood led ARK Invest fund sold around 80...</td>\n",
       "      <td>Cathie Wood’s Ark Invest Sells $27.6 Million i...</td>\n",
       "      <td>https://cryptonews.comhttps://cryptonews.com/n...</td>\n",
       "    </tr>\n",
       "    <tr>\n",
       "      <th>7</th>\n",
       "      <td>2023-12-19 04:10:00</td>\n",
       "      <td>{'class': 'neutral', 'polarity': 0.0, 'subject...</td>\n",
       "      <td>CryptoPotato</td>\n",
       "      <td>bitcoin</td>\n",
       "      <td>Bitcoin's 150% surge pales in comparison to th...</td>\n",
       "      <td>Bitcoin Soared 150% in 2023 But These Companie...</td>\n",
       "      <td>https://cryptopotato.com/bitcoin-soared-150-in...</td>\n",
       "    </tr>\n",
       "    <tr>\n",
       "      <th>8</th>\n",
       "      <td>2023-12-19 04:00:01</td>\n",
       "      <td>{'class': 'neutral', 'polarity': 0.0, 'subject...</td>\n",
       "      <td>CryptoNews</td>\n",
       "      <td>blockchain</td>\n",
       "      <td>The South Korean city of Busan is edging close...</td>\n",
       "      <td>South Korean City Busan Names Digital Exchange...</td>\n",
       "      <td>https://cryptonews.comhttps://cryptonews.com/n...</td>\n",
       "    </tr>\n",
       "    <tr>\n",
       "      <th>9</th>\n",
       "      <td>2023-12-19 02:59:59</td>\n",
       "      <td>{'class': 'negative', 'polarity': -0.08, 'subj...</td>\n",
       "      <td>CoinTelegraph</td>\n",
       "      <td>bitcoin</td>\n",
       "      <td>The SEC has pushed back its decision on a rost...</td>\n",
       "      <td>SEC delays several Ethereum ETFs, pushing fina...</td>\n",
       "      <td>https://cointelegraph.com/news/sec-delays-ethe...</td>\n",
       "    </tr>\n",
       "  </tbody>\n",
       "</table>\n",
       "</div>"
      ],
      "text/plain": [
       "                  date                                          sentiment  \\\n",
       "0  2023-12-19 06:40:41  {'class': 'negative', 'polarity': -0.1, 'subje...   \n",
       "1  2023-12-19 06:03:24  {'class': 'neutral', 'polarity': 0.0, 'subject...   \n",
       "2  2023-12-19 05:55:14  {'class': 'positive', 'polarity': 0.05, 'subje...   \n",
       "3  2023-12-19 05:35:26  {'class': 'positive', 'polarity': 0.5, 'subjec...   \n",
       "4  2023-12-19 05:31:08  {'class': 'neutral', 'polarity': 0.0, 'subject...   \n",
       "5  2023-12-19 05:25:00  {'class': 'negative', 'polarity': -0.01, 'subj...   \n",
       "6  2023-12-19 04:50:11  {'class': 'positive', 'polarity': 0.3, 'subjec...   \n",
       "7  2023-12-19 04:10:00  {'class': 'neutral', 'polarity': 0.0, 'subject...   \n",
       "8  2023-12-19 04:00:01  {'class': 'neutral', 'polarity': 0.0, 'subject...   \n",
       "9  2023-12-19 02:59:59  {'class': 'negative', 'polarity': -0.08, 'subj...   \n",
       "\n",
       "          source     subject  \\\n",
       "0     CryptoNews     altcoin   \n",
       "1     CryptoNews  blockchain   \n",
       "2     CryptoNews  blockchain   \n",
       "3  CoinTelegraph  blockchain   \n",
       "4  CoinTelegraph    ethereum   \n",
       "5   CryptoPotato     bitcoin   \n",
       "6     CryptoNews     bitcoin   \n",
       "7   CryptoPotato     bitcoin   \n",
       "8     CryptoNews  blockchain   \n",
       "9  CoinTelegraph     bitcoin   \n",
       "\n",
       "                                                text  \\\n",
       "0  Grayscale CEO Michael Sonnenshein believes the...   \n",
       "1  In an exclusive interview with CryptoNews, Man...   \n",
       "2  According to the Federal Court ruling on Decem...   \n",
       "3  Some suggest EVM inscriptions are the latest w...   \n",
       "4  A decision by bloXroute Labs to start censorin...   \n",
       "5  Yonsei found that during BTC’s rally in early ...   \n",
       "6  Cathie Wood led ARK Invest fund sold around 80...   \n",
       "7  Bitcoin's 150% surge pales in comparison to th...   \n",
       "8  The South Korean city of Busan is edging close...   \n",
       "9  The SEC has pushed back its decision on a rost...   \n",
       "\n",
       "                                               title  \\\n",
       "0  Grayscale CEO Calls for Simultaneous Approval ...   \n",
       "1  Indian Government is Actively Collaborating Wi...   \n",
       "2  Judge Approves Settlement: Binance to Pay $1.5...   \n",
       "3  Why a gold rush for inscriptions has broken ha...   \n",
       "4  ‘Concerning precedent’ — bloXroute Labs' MEV r...   \n",
       "5  Is This Why Bitcoin’s Price Rally Was Halted? ...   \n",
       "6  Cathie Wood’s Ark Invest Sells $27.6 Million i...   \n",
       "7  Bitcoin Soared 150% in 2023 But These Companie...   \n",
       "8  South Korean City Busan Names Digital Exchange...   \n",
       "9  SEC delays several Ethereum ETFs, pushing fina...   \n",
       "\n",
       "                                                 url  \n",
       "0  https://cryptonews.comhttps://cryptonews.com/n...  \n",
       "1  https://cryptonews.comhttps://cryptonews.com/n...  \n",
       "2  https://cryptonews.comhttps://cryptonews.com/n...  \n",
       "3  https://cointelegraph.com/news/inscriptions-ev...  \n",
       "4  https://cointelegraph.com/news/concerning-prec...  \n",
       "5  https://cryptopotato.com/is-this-why-bitcoins-...  \n",
       "6  https://cryptonews.comhttps://cryptonews.com/n...  \n",
       "7  https://cryptopotato.com/bitcoin-soared-150-in...  \n",
       "8  https://cryptonews.comhttps://cryptonews.com/n...  \n",
       "9  https://cointelegraph.com/news/sec-delays-ethe...  "
      ]
     },
     "execution_count": 3,
     "metadata": {},
     "output_type": "execute_result"
    }
   ],
   "source": [
    "df.head(10)"
   ]
  },
  {
   "cell_type": "code",
   "execution_count": 4,
   "id": "aba76fbd",
   "metadata": {},
   "outputs": [
    {
     "name": "stdout",
     "output_type": "stream",
     "text": [
      "<class 'pandas.core.frame.DataFrame'>\n",
      "RangeIndex: 31037 entries, 0 to 31036\n",
      "Data columns (total 7 columns):\n",
      " #   Column     Non-Null Count  Dtype \n",
      "---  ------     --------------  ----- \n",
      " 0   date       31037 non-null  object\n",
      " 1   sentiment  31037 non-null  object\n",
      " 2   source     31037 non-null  object\n",
      " 3   subject    31037 non-null  object\n",
      " 4   text       31037 non-null  object\n",
      " 5   title      31037 non-null  object\n",
      " 6   url        31037 non-null  object\n",
      "dtypes: object(7)\n",
      "memory usage: 1.7+ MB\n"
     ]
    }
   ],
   "source": [
    "df.info()"
   ]
  },
  {
   "cell_type": "code",
   "execution_count": 5,
   "id": "b97be1ec",
   "metadata": {},
   "outputs": [
    {
     "data": {
      "text/plain": [
       "date         0\n",
       "sentiment    0\n",
       "source       0\n",
       "subject      0\n",
       "text         0\n",
       "title        0\n",
       "url          0\n",
       "dtype: int64"
      ]
     },
     "execution_count": 5,
     "metadata": {},
     "output_type": "execute_result"
    }
   ],
   "source": [
    "# проверим пропуски в данных и устраним их\n",
    "na_mask = df.isna()\n",
    "na_counts = na_mask.sum()\n",
    "na_counts"
   ]
  },
  {
   "cell_type": "code",
   "execution_count": 6,
   "id": "acba0e52",
   "metadata": {},
   "outputs": [
    {
     "data": {
      "text/plain": [
       "date         0\n",
       "sentiment    0\n",
       "source       0\n",
       "subject      0\n",
       "text         0\n",
       "title        0\n",
       "url          0\n",
       "dtype: int64"
      ]
     },
     "execution_count": 6,
     "metadata": {},
     "output_type": "execute_result"
    }
   ],
   "source": [
    "df.dropna(inplace=True)\n",
    "na_mask = df.isna()\n",
    "na_counts = na_mask.sum()\n",
    "na_counts"
   ]
  },
  {
   "cell_type": "code",
   "execution_count": 7,
   "id": "106c5da9",
   "metadata": {},
   "outputs": [],
   "source": [
    "# Разделим набор данных на обучающую и тестувую выборки\n",
    "X, Y = df['text'], df['source']\n",
    "X_train, X_test, y_train, y_test = train_test_split(X, Y, test_size=0.2, random_state=42)\n",
    "\n",
    "time_arr = []"
   ]
  },
  {
   "cell_type": "code",
   "execution_count": 8,
   "id": "b4478280",
   "metadata": {},
   "outputs": [],
   "source": [
    "# векторизация признаков с помощью CountVectorizer\n",
    "count_vect = CountVectorizer() \n",
    "X_train_counts = count_vect.fit_transform(X_train)\n",
    "X_test_counts = count_vect.transform(X_test)"
   ]
  },
  {
   "cell_type": "code",
   "execution_count": 9,
   "id": "77e4cb2d",
   "metadata": {},
   "outputs": [],
   "source": [
    "# векторизация признаков с помощью TfidfVectorizer\n",
    "tfidf_vect = TfidfVectorizer()\n",
    "X_train_tfidf = tfidf_vect.fit_transform(X_train)\n",
    "X_test_tfidf = tfidf_vect.transform(X_test)"
   ]
  },
  {
   "cell_type": "code",
   "execution_count": 10,
   "id": "9077dfaf",
   "metadata": {},
   "outputs": [
    {
     "name": "stderr",
     "output_type": "stream",
     "text": [
      "/Users/peterpechenkin/anaconda3/lib/python3.10/site-packages/sklearn/svm/_base.py:1244: ConvergenceWarning: Liblinear failed to converge, increase the number of iterations.\n",
      "  warnings.warn(\n"
     ]
    },
    {
     "name": "stdout",
     "output_type": "stream",
     "text": [
      "Точность (CountVectorizer + LinearSVC): 0.6659149484536082\n",
      "Точность (CountVectorizer + LogisticRegression): 0.7007087628865979\n"
     ]
    }
   ],
   "source": [
    "# Произведем обучения вдух классификаторов (по варианту) для CountVectorizer\n",
    "\n",
    "# LinearSVC\n",
    "gbc = LinearSVC()\n",
    "start_time = time.time()\n",
    "gbc.fit(X_train_counts, y_train)\n",
    "train_time = time.time() - start_time\n",
    "time_arr.append(train_time)\n",
    "pred_gbc_counts = gbc.predict(X_test_counts)\n",
    "print(\"Точность (CountVectorizer + LinearSVC):\", accuracy_score(y_test, pred_gbc_counts))\n",
    "\n",
    "# Logistic Regression\n",
    "lr = LogisticRegression(max_iter=1000)\n",
    "start_time = time.time()\n",
    "lr.fit(X_train_counts, y_train)\n",
    "train_time = time.time() - start_time\n",
    "time_arr.append(train_time)\n",
    "pred_lr_counts = lr.predict(X_test_counts)\n",
    "print(\"Точность (CountVectorizer + LogisticRegression):\", accuracy_score(y_test, pred_lr_counts))"
   ]
  },
  {
   "cell_type": "code",
   "execution_count": 11,
   "id": "6fa4ac88",
   "metadata": {},
   "outputs": [
    {
     "name": "stdout",
     "output_type": "stream",
     "text": [
      "Точность (TfidfVectorizer + LinearSVC): 0.6968427835051546\n",
      "Точность (TfidfVectorizer + LogisticRegression): 0.7116623711340206\n"
     ]
    }
   ],
   "source": [
    "# Произведем обучения вдух классификаторов (по варианту) для TfidfVectorizer\n",
    "\n",
    "# LinearSVC\n",
    "gbc = LinearSVC()\n",
    "start_time = time.time()\n",
    "gbc.fit(X_train_tfidf, y_train)\n",
    "train_time = time.time() - start_time\n",
    "time_arr.append(train_time)\n",
    "pred_gbc_tfidf = gbc.predict(X_test_tfidf)\n",
    "print(\"Точность (TfidfVectorizer + LinearSVC):\", accuracy_score(y_test, pred_gbc_tfidf))\n",
    "\n",
    "# Logistic Regression\n",
    "lr = LogisticRegression(max_iter=1000)\n",
    "start_time = time.time()\n",
    "lr.fit(X_train_tfidf, y_train)\n",
    "train_time = time.time() - start_time\n",
    "time_arr.append(train_time)\n",
    "pred_lr_tfidf = lr.predict(X_test_tfidf)\n",
    "print(\"Точность (TfidfVectorizer + LogisticRegression):\", accuracy_score(y_test, pred_lr_tfidf))"
   ]
  },
  {
   "cell_type": "code",
   "execution_count": 12,
   "id": "4a229509",
   "metadata": {},
   "outputs": [
    {
     "name": "stdout",
     "output_type": "stream",
     "text": [
      "+----------------------------------------+----------------------+------------------+\n",
      "| Связка                                 |   Точность валидации |   Время обучения |\n",
      "+========================================+======================+==================+\n",
      "| (TfidfVectorizer + LogisticRegression) |             0.711662 |         0.214736 |\n",
      "+----------------------------------------+----------------------+------------------+\n",
      "| (CountVectorizer + LogisticRegression) |             0.700709 |         1.88814  |\n",
      "+----------------------------------------+----------------------+------------------+\n",
      "| (TfidfVectorizer + LinearSVC)          |             0.696843 |         1.65225  |\n",
      "+----------------------------------------+----------------------+------------------+\n",
      "| (CountVectorizer + LinearSVC)          |             0.665915 |         4.09705  |\n",
      "+----------------------------------------+----------------------+------------------+\n"
     ]
    }
   ],
   "source": [
    "from tabulate import tabulate\n",
    "\n",
    "data = [\n",
    "    [\"(CountVectorizer + LogisticRegression)\", accuracy_score(y_test, pred_lr_counts), time_arr[0]],\n",
    "    [\"(CountVectorizer + LinearSVC)\", accuracy_score(y_test, pred_gbc_counts), time_arr[1]],\n",
    "    [\"(TfidfVectorizer + LogisticRegression)\", accuracy_score(y_test, pred_lr_tfidf), time_arr[2]],\n",
    "    [\"(TfidfVectorizer + LinearSVC)\", accuracy_score(y_test, pred_gbc_tfidf), time_arr[3]]\n",
    "]\n",
    "\n",
    "sorted_data = sorted(data, key=lambda x: x[1], reverse=True)\n",
    "\n",
    "# Вывод отсортированных данных в виде таблицы\n",
    "print(tabulate(sorted_data, ['Связка','Точность валидации', 'Время обучения'], tablefmt=\"grid\"))"
   ]
  }
 ],
 "metadata": {
  "kernelspec": {
   "display_name": "Python 3 (ipykernel)",
   "language": "python",
   "name": "python3"
  },
  "language_info": {
   "codemirror_mode": {
    "name": "ipython",
    "version": 3
   },
   "file_extension": ".py",
   "mimetype": "text/x-python",
   "name": "python",
   "nbconvert_exporter": "python",
   "pygments_lexer": "ipython3",
   "version": "3.10.9"
  }
 },
 "nbformat": 4,
 "nbformat_minor": 5
}
